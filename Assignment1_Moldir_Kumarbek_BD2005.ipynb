{
 "cells": [
  {
   "cell_type": "markdown",
   "id": "eb798d03-49ef-4e23-b46a-b659103e6878",
   "metadata": {},
   "source": [
    "### Assignment 1\n",
    "#### Moldir KUmarbek\n",
    "#### BD-2005"
   ]
  },
  {
   "cell_type": "code",
   "execution_count": 1,
   "id": "fc3cbd7a-1d02-4750-ba6f-0f4cfb7469b9",
   "metadata": {},
   "outputs": [],
   "source": [
    "import pandas as pd\n",
    "import numpy as np"
   ]
  },
  {
   "cell_type": "code",
   "execution_count": 2,
   "id": "3e4a9f16-ec63-48af-9901-ccbcf9811af8",
   "metadata": {},
   "outputs": [
    {
     "data": {
      "text/html": [
       "<div>\n",
       "<style scoped>\n",
       "    .dataframe tbody tr th:only-of-type {\n",
       "        vertical-align: middle;\n",
       "    }\n",
       "\n",
       "    .dataframe tbody tr th {\n",
       "        vertical-align: top;\n",
       "    }\n",
       "\n",
       "    .dataframe thead th {\n",
       "        text-align: right;\n",
       "    }\n",
       "</style>\n",
       "<table border=\"1\" class=\"dataframe\">\n",
       "  <thead>\n",
       "    <tr style=\"text-align: right;\">\n",
       "      <th></th>\n",
       "      <th>Unique number</th>\n",
       "      <th>Возраст, полных лет</th>\n",
       "      <th>Гражданство</th>\n",
       "      <th>Стаж вождения</th>\n",
       "      <th>Пол</th>\n",
       "      <th>КБМ</th>\n",
       "      <th>Город</th>\n",
       "      <th>Марка</th>\n",
       "      <th>Модель</th>\n",
       "      <th>Тип ТС</th>\n",
       "      <th>Год выпуска</th>\n",
       "      <th>Расположение руля</th>\n",
       "      <th>Объём двигателя</th>\n",
       "      <th>Цвет</th>\n",
       "      <th>Период страхования</th>\n",
       "      <th>Страховая премия</th>\n",
       "      <th>Льготы</th>\n",
       "      <th>Дата проишествия</th>\n",
       "      <th>Регион ДТП</th>\n",
       "      <th>Сумма убытка</th>\n",
       "    </tr>\n",
       "  </thead>\n",
       "  <tbody>\n",
       "    <tr>\n",
       "      <th>0</th>\n",
       "      <td>1</td>\n",
       "      <td>2</td>\n",
       "      <td>3</td>\n",
       "      <td>4</td>\n",
       "      <td>5</td>\n",
       "      <td>6</td>\n",
       "      <td>7</td>\n",
       "      <td>8</td>\n",
       "      <td>9</td>\n",
       "      <td>10</td>\n",
       "      <td>11</td>\n",
       "      <td>12</td>\n",
       "      <td>13</td>\n",
       "      <td>14</td>\n",
       "      <td>15</td>\n",
       "      <td>18</td>\n",
       "      <td>19</td>\n",
       "      <td>23</td>\n",
       "      <td>25</td>\n",
       "      <td>26.0</td>\n",
       "    </tr>\n",
       "    <tr>\n",
       "      <th>1</th>\n",
       "      <td>74d88aec9cfe39a1bc5a93314c4326dc</td>\n",
       "      <td>30</td>\n",
       "      <td>Казахстан</td>\n",
       "      <td>10</td>\n",
       "      <td>М</td>\n",
       "      <td>8</td>\n",
       "      <td>Алматы</td>\n",
       "      <td>156</td>\n",
       "      <td>Alfa romeo</td>\n",
       "      <td>Легковые автомобили</td>\n",
       "      <td>12/1/2000</td>\n",
       "      <td>Слева</td>\n",
       "      <td>3000</td>\n",
       "      <td>красный</td>\n",
       "      <td>14.06.2013-13.06.2014</td>\n",
       "      <td>17625</td>\n",
       "      <td>NaN</td>\n",
       "      <td>NaN</td>\n",
       "      <td>NaN</td>\n",
       "      <td>NaN</td>\n",
       "    </tr>\n",
       "    <tr>\n",
       "      <th>2</th>\n",
       "      <td>c13fe1fef2192e82056e26544c3efed3</td>\n",
       "      <td>36</td>\n",
       "      <td>Казахстан</td>\n",
       "      <td>17</td>\n",
       "      <td>М</td>\n",
       "      <td>8</td>\n",
       "      <td>Нур-Султан</td>\n",
       "      <td>156</td>\n",
       "      <td>Alfa romeo</td>\n",
       "      <td>Легковые автомобили</td>\n",
       "      <td>12/1/2001</td>\n",
       "      <td>Слева</td>\n",
       "      <td>2387</td>\n",
       "      <td>синий</td>\n",
       "      <td>19.07.2013-18.07.2014</td>\n",
       "      <td>8484</td>\n",
       "      <td>NaN</td>\n",
       "      <td>NaN</td>\n",
       "      <td>NaN</td>\n",
       "      <td>NaN</td>\n",
       "    </tr>\n",
       "    <tr>\n",
       "      <th>3</th>\n",
       "      <td>8dd751c0f9c0cf216303a0d445099e1b</td>\n",
       "      <td>46</td>\n",
       "      <td>Казахстан</td>\n",
       "      <td>28</td>\n",
       "      <td>М</td>\n",
       "      <td>8</td>\n",
       "      <td>Алматы</td>\n",
       "      <td>Rsv 1000r</td>\n",
       "      <td>Aprilia</td>\n",
       "      <td>Мотоциклы и мотороллеры</td>\n",
       "      <td>12/1/2005</td>\n",
       "      <td>Слева</td>\n",
       "      <td>998</td>\n",
       "      <td>красный</td>\n",
       "      <td>07.06.2013-06.06.2014</td>\n",
       "      <td>8031</td>\n",
       "      <td>NaN</td>\n",
       "      <td>NaN</td>\n",
       "      <td>NaN</td>\n",
       "      <td>NaN</td>\n",
       "    </tr>\n",
       "    <tr>\n",
       "      <th>4</th>\n",
       "      <td>005f21aeed2db9c1694f724f365be6b5</td>\n",
       "      <td>45</td>\n",
       "      <td>Казахстан</td>\n",
       "      <td>13</td>\n",
       "      <td>М</td>\n",
       "      <td>7</td>\n",
       "      <td>Нур-Султан</td>\n",
       "      <td>80</td>\n",
       "      <td>Audi</td>\n",
       "      <td>Легковые автомобили</td>\n",
       "      <td>12/1/1992</td>\n",
       "      <td>Слева</td>\n",
       "      <td>1984</td>\n",
       "      <td>серебристый металлик архивный</td>\n",
       "      <td>30.05.2013-29.11.2013</td>\n",
       "      <td>6709</td>\n",
       "      <td>NaN</td>\n",
       "      <td>NaN</td>\n",
       "      <td>NaN</td>\n",
       "      <td>NaN</td>\n",
       "    </tr>\n",
       "  </tbody>\n",
       "</table>\n",
       "</div>"
      ],
      "text/plain": [
       "                      Unique number  Возраст, полных лет Гражданство  \\\n",
       "0                                 1                    2           3   \n",
       "1  74d88aec9cfe39a1bc5a93314c4326dc                   30   Казахстан   \n",
       "2  c13fe1fef2192e82056e26544c3efed3                   36   Казахстан   \n",
       "3  8dd751c0f9c0cf216303a0d445099e1b                   46   Казахстан   \n",
       "4  005f21aeed2db9c1694f724f365be6b5                   45   Казахстан   \n",
       "\n",
       "   Стаж вождения Пол  КБМ       Город      Марка      Модель  \\\n",
       "0              4   5    6           7          8           9   \n",
       "1             10   М    8      Алматы        156  Alfa romeo   \n",
       "2             17   М    8  Нур-Султан        156  Alfa romeo   \n",
       "3             28   М    8      Алматы  Rsv 1000r     Aprilia   \n",
       "4             13   М    7  Нур-Султан         80        Audi   \n",
       "\n",
       "                   Тип ТС  Год выпуска Расположение руля  Объём двигателя  \\\n",
       "0                       10          11                12               13   \n",
       "1      Легковые автомобили   12/1/2000             Слева             3000   \n",
       "2      Легковые автомобили   12/1/2001             Слева             2387   \n",
       "3  Мотоциклы и мотороллеры   12/1/2005             Слева              998   \n",
       "4      Легковые автомобили   12/1/1992             Слева             1984   \n",
       "\n",
       "                            Цвет     Период страхования  Страховая премия  \\\n",
       "0                             14                     15                18   \n",
       "1                        красный  14.06.2013-13.06.2014             17625   \n",
       "2                          синий  19.07.2013-18.07.2014              8484   \n",
       "3                        красный  07.06.2013-06.06.2014              8031   \n",
       "4  серебристый металлик архивный  30.05.2013-29.11.2013              6709   \n",
       "\n",
       "  Льготы Дата проишествия Регион ДТП  Сумма убытка  \n",
       "0     19               23         25          26.0  \n",
       "1    NaN              NaN        NaN           NaN  \n",
       "2    NaN              NaN        NaN           NaN  \n",
       "3    NaN              NaN        NaN           NaN  \n",
       "4    NaN              NaN        NaN           NaN  "
      ]
     },
     "execution_count": 2,
     "metadata": {},
     "output_type": "execute_result"
    }
   ],
   "source": [
    "dataset = pd.read_csv('Dataset_pandas_assign.csv')\n",
    "dataset.head()"
   ]
  },
  {
   "cell_type": "code",
   "execution_count": 3,
   "id": "5737728b-1750-4f6d-8b0b-d07c5f74802d",
   "metadata": {},
   "outputs": [
    {
     "data": {
      "text/html": [
       "<div>\n",
       "<style scoped>\n",
       "    .dataframe tbody tr th:only-of-type {\n",
       "        vertical-align: middle;\n",
       "    }\n",
       "\n",
       "    .dataframe tbody tr th {\n",
       "        vertical-align: top;\n",
       "    }\n",
       "\n",
       "    .dataframe thead th {\n",
       "        text-align: right;\n",
       "    }\n",
       "</style>\n",
       "<table border=\"1\" class=\"dataframe\">\n",
       "  <thead>\n",
       "    <tr style=\"text-align: right;\">\n",
       "      <th></th>\n",
       "      <th>Driver</th>\n",
       "      <th>Age</th>\n",
       "      <th>Гражданство</th>\n",
       "      <th>driver_experience</th>\n",
       "      <th>Пол</th>\n",
       "      <th>КБМ</th>\n",
       "      <th>Город</th>\n",
       "      <th>Марка</th>\n",
       "      <th>Модель</th>\n",
       "      <th>Тип ТС</th>\n",
       "      <th>year</th>\n",
       "      <th>Расположение руля</th>\n",
       "      <th>Объём двигателя</th>\n",
       "      <th>Цвет</th>\n",
       "      <th>Период страхования</th>\n",
       "      <th>Страховая премия</th>\n",
       "      <th>Льготы</th>\n",
       "      <th>Acc</th>\n",
       "      <th>Acc_place</th>\n",
       "      <th>Сумма убытка</th>\n",
       "    </tr>\n",
       "  </thead>\n",
       "  <tbody>\n",
       "    <tr>\n",
       "      <th>0</th>\n",
       "      <td>1</td>\n",
       "      <td>2</td>\n",
       "      <td>3</td>\n",
       "      <td>4</td>\n",
       "      <td>5</td>\n",
       "      <td>6</td>\n",
       "      <td>7</td>\n",
       "      <td>8</td>\n",
       "      <td>9</td>\n",
       "      <td>10</td>\n",
       "      <td>11</td>\n",
       "      <td>12</td>\n",
       "      <td>13</td>\n",
       "      <td>14</td>\n",
       "      <td>15</td>\n",
       "      <td>18</td>\n",
       "      <td>19</td>\n",
       "      <td>23</td>\n",
       "      <td>25</td>\n",
       "      <td>26.0</td>\n",
       "    </tr>\n",
       "    <tr>\n",
       "      <th>1</th>\n",
       "      <td>74d88aec9cfe39a1bc5a93314c4326dc</td>\n",
       "      <td>30</td>\n",
       "      <td>Казахстан</td>\n",
       "      <td>10</td>\n",
       "      <td>М</td>\n",
       "      <td>8</td>\n",
       "      <td>Алматы</td>\n",
       "      <td>156</td>\n",
       "      <td>Alfa romeo</td>\n",
       "      <td>Легковые автомобили</td>\n",
       "      <td>12/1/2000</td>\n",
       "      <td>Слева</td>\n",
       "      <td>3000</td>\n",
       "      <td>красный</td>\n",
       "      <td>14.06.2013-13.06.2014</td>\n",
       "      <td>17625</td>\n",
       "      <td>NaN</td>\n",
       "      <td>NaN</td>\n",
       "      <td>NaN</td>\n",
       "      <td>NaN</td>\n",
       "    </tr>\n",
       "    <tr>\n",
       "      <th>2</th>\n",
       "      <td>c13fe1fef2192e82056e26544c3efed3</td>\n",
       "      <td>36</td>\n",
       "      <td>Казахстан</td>\n",
       "      <td>17</td>\n",
       "      <td>М</td>\n",
       "      <td>8</td>\n",
       "      <td>Нур-Султан</td>\n",
       "      <td>156</td>\n",
       "      <td>Alfa romeo</td>\n",
       "      <td>Легковые автомобили</td>\n",
       "      <td>12/1/2001</td>\n",
       "      <td>Слева</td>\n",
       "      <td>2387</td>\n",
       "      <td>синий</td>\n",
       "      <td>19.07.2013-18.07.2014</td>\n",
       "      <td>8484</td>\n",
       "      <td>NaN</td>\n",
       "      <td>NaN</td>\n",
       "      <td>NaN</td>\n",
       "      <td>NaN</td>\n",
       "    </tr>\n",
       "    <tr>\n",
       "      <th>3</th>\n",
       "      <td>8dd751c0f9c0cf216303a0d445099e1b</td>\n",
       "      <td>46</td>\n",
       "      <td>Казахстан</td>\n",
       "      <td>28</td>\n",
       "      <td>М</td>\n",
       "      <td>8</td>\n",
       "      <td>Алматы</td>\n",
       "      <td>Rsv 1000r</td>\n",
       "      <td>Aprilia</td>\n",
       "      <td>Мотоциклы и мотороллеры</td>\n",
       "      <td>12/1/2005</td>\n",
       "      <td>Слева</td>\n",
       "      <td>998</td>\n",
       "      <td>красный</td>\n",
       "      <td>07.06.2013-06.06.2014</td>\n",
       "      <td>8031</td>\n",
       "      <td>NaN</td>\n",
       "      <td>NaN</td>\n",
       "      <td>NaN</td>\n",
       "      <td>NaN</td>\n",
       "    </tr>\n",
       "    <tr>\n",
       "      <th>4</th>\n",
       "      <td>005f21aeed2db9c1694f724f365be6b5</td>\n",
       "      <td>45</td>\n",
       "      <td>Казахстан</td>\n",
       "      <td>13</td>\n",
       "      <td>М</td>\n",
       "      <td>7</td>\n",
       "      <td>Нур-Султан</td>\n",
       "      <td>80</td>\n",
       "      <td>Audi</td>\n",
       "      <td>Легковые автомобили</td>\n",
       "      <td>12/1/1992</td>\n",
       "      <td>Слева</td>\n",
       "      <td>1984</td>\n",
       "      <td>серебристый металлик архивный</td>\n",
       "      <td>30.05.2013-29.11.2013</td>\n",
       "      <td>6709</td>\n",
       "      <td>NaN</td>\n",
       "      <td>NaN</td>\n",
       "      <td>NaN</td>\n",
       "      <td>NaN</td>\n",
       "    </tr>\n",
       "    <tr>\n",
       "      <th>...</th>\n",
       "      <td>...</td>\n",
       "      <td>...</td>\n",
       "      <td>...</td>\n",
       "      <td>...</td>\n",
       "      <td>...</td>\n",
       "      <td>...</td>\n",
       "      <td>...</td>\n",
       "      <td>...</td>\n",
       "      <td>...</td>\n",
       "      <td>...</td>\n",
       "      <td>...</td>\n",
       "      <td>...</td>\n",
       "      <td>...</td>\n",
       "      <td>...</td>\n",
       "      <td>...</td>\n",
       "      <td>...</td>\n",
       "      <td>...</td>\n",
       "      <td>...</td>\n",
       "      <td>...</td>\n",
       "      <td>...</td>\n",
       "    </tr>\n",
       "    <tr>\n",
       "      <th>10905</th>\n",
       "      <td>c6a3b53d633ff4155492e2e19b9a8010</td>\n",
       "      <td>57</td>\n",
       "      <td>Казахстан</td>\n",
       "      <td>35</td>\n",
       "      <td>М</td>\n",
       "      <td>8</td>\n",
       "      <td>Павлодар</td>\n",
       "      <td>Нива 212300-55</td>\n",
       "      <td>Шевроле</td>\n",
       "      <td>Легковые автомобили</td>\n",
       "      <td>12/1/2012</td>\n",
       "      <td>Слева</td>\n",
       "      <td>1690</td>\n",
       "      <td>серый металлик</td>\n",
       "      <td>12.06.2013-10.04.2014</td>\n",
       "      <td>6976</td>\n",
       "      <td>NaN</td>\n",
       "      <td>NaN</td>\n",
       "      <td>NaN</td>\n",
       "      <td>NaN</td>\n",
       "    </tr>\n",
       "    <tr>\n",
       "      <th>10906</th>\n",
       "      <td>c84892e816bec0dbd5429c75fb57b305</td>\n",
       "      <td>55</td>\n",
       "      <td>Казахстан</td>\n",
       "      <td>20</td>\n",
       "      <td>М</td>\n",
       "      <td>9</td>\n",
       "      <td>Петропавловск</td>\n",
       "      <td>Нива 212300-55I</td>\n",
       "      <td>Шевроле</td>\n",
       "      <td>Легковые автомобили</td>\n",
       "      <td>1/1/2012</td>\n",
       "      <td>Слева</td>\n",
       "      <td>1690</td>\n",
       "      <td>серебристый</td>\n",
       "      <td>16.06.2013-15.06.2014</td>\n",
       "      <td>6400</td>\n",
       "      <td>NaN</td>\n",
       "      <td>NaN</td>\n",
       "      <td>NaN</td>\n",
       "      <td>NaN</td>\n",
       "    </tr>\n",
       "    <tr>\n",
       "      <th>10907</th>\n",
       "      <td>d406878650cbf18002d29968bf832c31</td>\n",
       "      <td>73</td>\n",
       "      <td>Казахстан</td>\n",
       "      <td>45</td>\n",
       "      <td>М</td>\n",
       "      <td>8</td>\n",
       "      <td>Костанай</td>\n",
       "      <td>Нива 212300-55I</td>\n",
       "      <td>Шевроле</td>\n",
       "      <td>Легковые автомобили</td>\n",
       "      <td>12/1/2010</td>\n",
       "      <td>Слева</td>\n",
       "      <td>1700</td>\n",
       "      <td>снежная королева</td>\n",
       "      <td>18.06.2013-17.06.2014</td>\n",
       "      <td>10053</td>\n",
       "      <td>NaN</td>\n",
       "      <td>NaN</td>\n",
       "      <td>NaN</td>\n",
       "      <td>NaN</td>\n",
       "    </tr>\n",
       "    <tr>\n",
       "      <th>10908</th>\n",
       "      <td>dcb07973b07a508c4680406b38fdfa56</td>\n",
       "      <td>67</td>\n",
       "      <td>Казахстан</td>\n",
       "      <td>20</td>\n",
       "      <td>М</td>\n",
       "      <td>8</td>\n",
       "      <td>Усть-Каменогорск</td>\n",
       "      <td>Нива 212300-55glc</td>\n",
       "      <td>Шевроле</td>\n",
       "      <td>Легковые автомобили</td>\n",
       "      <td>12/1/2011</td>\n",
       "      <td>Слева</td>\n",
       "      <td>1690</td>\n",
       "      <td>снежная королева</td>\n",
       "      <td>01.07.2013-30.06.2014</td>\n",
       "      <td>5052</td>\n",
       "      <td>Инвалид</td>\n",
       "      <td>NaN</td>\n",
       "      <td>NaN</td>\n",
       "      <td>NaN</td>\n",
       "    </tr>\n",
       "    <tr>\n",
       "      <th>10909</th>\n",
       "      <td>e5d53857c001d29441e397a35ccc0392</td>\n",
       "      <td>65</td>\n",
       "      <td>Казахстан</td>\n",
       "      <td>34</td>\n",
       "      <td>М</td>\n",
       "      <td>8</td>\n",
       "      <td>Актобе</td>\n",
       "      <td>Нива 212300-55I</td>\n",
       "      <td>Шевроле</td>\n",
       "      <td>Легковые автомобили</td>\n",
       "      <td>12/1/2011</td>\n",
       "      <td>Слева</td>\n",
       "      <td>1690</td>\n",
       "      <td>серебристый</td>\n",
       "      <td>01.07.2013-30.06.2014</td>\n",
       "      <td>3480</td>\n",
       "      <td>Инвалид</td>\n",
       "      <td>NaN</td>\n",
       "      <td>NaN</td>\n",
       "      <td>NaN</td>\n",
       "    </tr>\n",
       "  </tbody>\n",
       "</table>\n",
       "<p>10910 rows × 20 columns</p>\n",
       "</div>"
      ],
      "text/plain": [
       "                                 Driver  Age Гражданство  driver_experience  \\\n",
       "0                                     1    2           3                  4   \n",
       "1      74d88aec9cfe39a1bc5a93314c4326dc   30   Казахстан                 10   \n",
       "2      c13fe1fef2192e82056e26544c3efed3   36   Казахстан                 17   \n",
       "3      8dd751c0f9c0cf216303a0d445099e1b   46   Казахстан                 28   \n",
       "4      005f21aeed2db9c1694f724f365be6b5   45   Казахстан                 13   \n",
       "...                                 ...  ...         ...                ...   \n",
       "10905  c6a3b53d633ff4155492e2e19b9a8010   57   Казахстан                 35   \n",
       "10906  c84892e816bec0dbd5429c75fb57b305   55   Казахстан                 20   \n",
       "10907  d406878650cbf18002d29968bf832c31   73   Казахстан                 45   \n",
       "10908  dcb07973b07a508c4680406b38fdfa56   67   Казахстан                 20   \n",
       "10909  e5d53857c001d29441e397a35ccc0392   65   Казахстан                 34   \n",
       "\n",
       "      Пол  КБМ             Город              Марка      Модель  \\\n",
       "0       5    6                 7                  8           9   \n",
       "1       М    8            Алматы                156  Alfa romeo   \n",
       "2       М    8        Нур-Султан                156  Alfa romeo   \n",
       "3       М    8            Алматы          Rsv 1000r     Aprilia   \n",
       "4       М    7        Нур-Султан                 80        Audi   \n",
       "...    ..  ...               ...                ...         ...   \n",
       "10905   М    8          Павлодар     Нива 212300-55     Шевроле   \n",
       "10906   М    9     Петропавловск    Нива 212300-55I     Шевроле   \n",
       "10907   М    8          Костанай    Нива 212300-55I     Шевроле   \n",
       "10908   М    8  Усть-Каменогорск  Нива 212300-55glc     Шевроле   \n",
       "10909   М    8            Актобе    Нива 212300-55I     Шевроле   \n",
       "\n",
       "                       Тип ТС        year Расположение руля  Объём двигателя  \\\n",
       "0                           10         11                12               13   \n",
       "1          Легковые автомобили  12/1/2000             Слева             3000   \n",
       "2          Легковые автомобили  12/1/2001             Слева             2387   \n",
       "3      Мотоциклы и мотороллеры  12/1/2005             Слева              998   \n",
       "4          Легковые автомобили  12/1/1992             Слева             1984   \n",
       "...                        ...        ...               ...              ...   \n",
       "10905      Легковые автомобили  12/1/2012             Слева             1690   \n",
       "10906      Легковые автомобили   1/1/2012             Слева             1690   \n",
       "10907      Легковые автомобили  12/1/2010             Слева             1700   \n",
       "10908      Легковые автомобили  12/1/2011             Слева             1690   \n",
       "10909      Легковые автомобили  12/1/2011             Слева             1690   \n",
       "\n",
       "                                Цвет     Период страхования  Страховая премия  \\\n",
       "0                                 14                     15                18   \n",
       "1                            красный  14.06.2013-13.06.2014             17625   \n",
       "2                              синий  19.07.2013-18.07.2014              8484   \n",
       "3                            красный  07.06.2013-06.06.2014              8031   \n",
       "4      серебристый металлик архивный  30.05.2013-29.11.2013              6709   \n",
       "...                              ...                    ...               ...   \n",
       "10905                 серый металлик  12.06.2013-10.04.2014              6976   \n",
       "10906                    серебристый  16.06.2013-15.06.2014              6400   \n",
       "10907               снежная королева  18.06.2013-17.06.2014             10053   \n",
       "10908               снежная королева  01.07.2013-30.06.2014              5052   \n",
       "10909                    серебристый  01.07.2013-30.06.2014              3480   \n",
       "\n",
       "         Льготы  Acc Acc_place  Сумма убытка  \n",
       "0            19   23        25          26.0  \n",
       "1           NaN  NaN       NaN           NaN  \n",
       "2           NaN  NaN       NaN           NaN  \n",
       "3           NaN  NaN       NaN           NaN  \n",
       "4           NaN  NaN       NaN           NaN  \n",
       "...         ...  ...       ...           ...  \n",
       "10905       NaN  NaN       NaN           NaN  \n",
       "10906       NaN  NaN       NaN           NaN  \n",
       "10907       NaN  NaN       NaN           NaN  \n",
       "10908  Инвалид   NaN       NaN           NaN  \n",
       "10909  Инвалид   NaN       NaN           NaN  \n",
       "\n",
       "[10910 rows x 20 columns]"
      ]
     },
     "execution_count": 3,
     "metadata": {},
     "output_type": "execute_result"
    }
   ],
   "source": [
    "dataset = dataset.rename(columns={'Возраст, полных лет':'Age', 'Unique number': 'Driver', 'Дата проишествия' : 'Acc', 'Стаж вождения':'driver_experience','Регион ДТП' : 'Acc_place','Год выпуска':'year'})\n",
    "dataset"
   ]
  },
  {
   "cell_type": "markdown",
   "id": "25f1f3be-fb88-483d-8af0-126b578b74f4",
   "metadata": {},
   "source": [
    "##### 1) What is the average age and percentage of road accidents for all drivers based on genders?"
   ]
  },
  {
   "cell_type": "code",
   "execution_count": 4,
   "id": "28ade78c-64eb-44ed-8dd2-b49747edb34a",
   "metadata": {},
   "outputs": [],
   "source": [
    "dataset = dataset.drop(labels=None, axis=0, index=0, columns=None, level=None, inplace=False, errors='raise')\n"
   ]
  },
  {
   "cell_type": "code",
   "execution_count": 5,
   "id": "88ea62aa-c586-4a15-a23d-8def9bc81047",
   "metadata": {},
   "outputs": [
    {
     "data": {
      "text/html": [
       "<div>\n",
       "<style scoped>\n",
       "    .dataframe tbody tr th:only-of-type {\n",
       "        vertical-align: middle;\n",
       "    }\n",
       "\n",
       "    .dataframe tbody tr th {\n",
       "        vertical-align: top;\n",
       "    }\n",
       "\n",
       "    .dataframe thead th {\n",
       "        text-align: right;\n",
       "    }\n",
       "</style>\n",
       "<table border=\"1\" class=\"dataframe\">\n",
       "  <thead>\n",
       "    <tr style=\"text-align: right;\">\n",
       "      <th></th>\n",
       "      <th>Age</th>\n",
       "      <th>driver_experience</th>\n",
       "      <th>КБМ</th>\n",
       "      <th>Объём двигателя</th>\n",
       "      <th>Страховая премия</th>\n",
       "      <th>Сумма убытка</th>\n",
       "    </tr>\n",
       "    <tr>\n",
       "      <th>Пол</th>\n",
       "      <th></th>\n",
       "      <th></th>\n",
       "      <th></th>\n",
       "      <th></th>\n",
       "      <th></th>\n",
       "      <th></th>\n",
       "    </tr>\n",
       "  </thead>\n",
       "  <tbody>\n",
       "    <tr>\n",
       "      <th>Ж</th>\n",
       "      <td>43.810682</td>\n",
       "      <td>13.903264</td>\n",
       "      <td>6.803561</td>\n",
       "      <td>2331.699703</td>\n",
       "      <td>13656.416617</td>\n",
       "      <td>404413.807692</td>\n",
       "    </tr>\n",
       "    <tr>\n",
       "      <th>М</th>\n",
       "      <td>48.004445</td>\n",
       "      <td>18.772984</td>\n",
       "      <td>7.470620</td>\n",
       "      <td>2403.140395</td>\n",
       "      <td>10433.984497</td>\n",
       "      <td>345044.596330</td>\n",
       "    </tr>\n",
       "  </tbody>\n",
       "</table>\n",
       "</div>"
      ],
      "text/plain": [
       "           Age  driver_experience       КБМ  Объём двигателя  \\\n",
       "Пол                                                            \n",
       "Ж    43.810682          13.903264  6.803561      2331.699703   \n",
       "М    48.004445          18.772984  7.470620      2403.140395   \n",
       "\n",
       "     Страховая премия   Сумма убытка  \n",
       "Пол                                   \n",
       "Ж        13656.416617  404413.807692  \n",
       "М        10433.984497  345044.596330  "
      ]
     },
     "execution_count": 5,
     "metadata": {},
     "output_type": "execute_result"
    }
   ],
   "source": [
    "dataset.groupby('Пол',as_index = True).mean()"
   ]
  },
  {
   "cell_type": "code",
   "execution_count": 6,
   "id": "c65db35b-776b-4c6f-b183-c05954387b5f",
   "metadata": {},
   "outputs": [
    {
     "data": {
      "text/plain": [
       "Пол\n",
       "Ж     25\n",
       "М    111\n",
       "Name: Acc, dtype: int64"
      ]
     },
     "execution_count": 6,
     "metadata": {},
     "output_type": "execute_result"
    }
   ],
   "source": [
    "## \n",
    "pol = dataset.groupby('Пол',as_index = True).Acc.count()\n",
    "pol"
   ]
  },
  {
   "cell_type": "code",
   "execution_count": 7,
   "id": "3ffc6c45-eec9-458b-9d0c-4bf5e2155e4c",
   "metadata": {},
   "outputs": [
    {
     "data": {
      "text/plain": [
       "10909"
      ]
     },
     "execution_count": 7,
     "metadata": {},
     "output_type": "execute_result"
    }
   ],
   "source": [
    "all_sum = dataset.value_counts('Driver').sum()\n",
    "all_sum"
   ]
  },
  {
   "cell_type": "code",
   "execution_count": 8,
   "id": "404c7099-f4c5-4d33-8cb9-d79150b46181",
   "metadata": {},
   "outputs": [
    {
     "data": {
      "text/plain": [
       "Пол\n",
       "Ж    0.229169\n",
       "М    1.017508\n",
       "Name: Acc, dtype: float64"
      ]
     },
     "execution_count": 8,
     "metadata": {},
     "output_type": "execute_result"
    }
   ],
   "source": [
    "(pol / all_sum )*100 #last version"
   ]
  },
  {
   "cell_type": "markdown",
   "id": "7db1a285-969c-40b2-8bfd-475379f50d73",
   "metadata": {},
   "source": [
    "##### 2. What is the difference between average driving experience and mean bonus-malus class for males and females?"
   ]
  },
  {
   "cell_type": "code",
   "execution_count": 9,
   "id": "d0d0ebfc-6719-44f2-ac46-0409bd8574ce",
   "metadata": {},
   "outputs": [
    {
     "data": {
      "text/plain": [
       "Пол\n",
       "Ж    13.903264\n",
       "М    18.772984\n",
       "Name: driver_experience, dtype: float64"
      ]
     },
     "execution_count": 9,
     "metadata": {},
     "output_type": "execute_result"
    }
   ],
   "source": [
    "df1 = dataset.groupby('Пол').driver_experience.mean()\n",
    "df1"
   ]
  },
  {
   "cell_type": "code",
   "execution_count": 10,
   "id": "cc328dc4-31c7-4f6d-9570-434238118c3e",
   "metadata": {},
   "outputs": [
    {
     "data": {
      "text/plain": [
       "Пол\n",
       "Ж    6.803561\n",
       "М    7.470620\n",
       "Name: КБМ, dtype: float64"
      ]
     },
     "execution_count": 10,
     "metadata": {},
     "output_type": "execute_result"
    }
   ],
   "source": [
    "df2 = dataset.groupby('Пол').КБМ.mean()\n",
    "df2"
   ]
  },
  {
   "cell_type": "code",
   "execution_count": 11,
   "id": "d1f3c36f-9461-47a3-8c61-995a1bec4730",
   "metadata": {},
   "outputs": [
    {
     "data": {
      "text/plain": [
       "Пол\n",
       "Ж     7.099703\n",
       "М    11.302363\n",
       "dtype: float64"
      ]
     },
     "execution_count": 11,
     "metadata": {},
     "output_type": "execute_result"
    }
   ],
   "source": [
    "df1 - df2 #last version of #2"
   ]
  },
  {
   "cell_type": "markdown",
   "id": "1c078d40-30b1-414b-b967-38f5188e2ab5",
   "metadata": {},
   "source": [
    "##### 3. In which year the most significant number of vehicles were built? Please provide the list of top-10 years sorting based on the number of vehicles (descending)."
   ]
  },
  {
   "cell_type": "code",
   "execution_count": 12,
   "id": "21697430-5056-4d87-bc91-5945c0705ed6",
   "metadata": {},
   "outputs": [
    {
     "ename": "KeyError",
     "evalue": "'Год выпуска'",
     "output_type": "error",
     "traceback": [
      "\u001b[1;31m---------------------------------------------------------------------------\u001b[0m",
      "\u001b[1;31mKeyError\u001b[0m                                  Traceback (most recent call last)",
      "\u001b[1;32mM:\\vs code\\lib\\site-packages\\pandas\\core\\indexes\\base.py\u001b[0m in \u001b[0;36mget_loc\u001b[1;34m(self, key, method, tolerance)\u001b[0m\n\u001b[0;32m   3079\u001b[0m             \u001b[1;32mtry\u001b[0m\u001b[1;33m:\u001b[0m\u001b[1;33m\u001b[0m\u001b[1;33m\u001b[0m\u001b[0m\n\u001b[1;32m-> 3080\u001b[1;33m                 \u001b[1;32mreturn\u001b[0m \u001b[0mself\u001b[0m\u001b[1;33m.\u001b[0m\u001b[0m_engine\u001b[0m\u001b[1;33m.\u001b[0m\u001b[0mget_loc\u001b[0m\u001b[1;33m(\u001b[0m\u001b[0mcasted_key\u001b[0m\u001b[1;33m)\u001b[0m\u001b[1;33m\u001b[0m\u001b[1;33m\u001b[0m\u001b[0m\n\u001b[0m\u001b[0;32m   3081\u001b[0m             \u001b[1;32mexcept\u001b[0m \u001b[0mKeyError\u001b[0m \u001b[1;32mas\u001b[0m \u001b[0merr\u001b[0m\u001b[1;33m:\u001b[0m\u001b[1;33m\u001b[0m\u001b[1;33m\u001b[0m\u001b[0m\n",
      "\u001b[1;32mpandas\\_libs\\index.pyx\u001b[0m in \u001b[0;36mpandas._libs.index.IndexEngine.get_loc\u001b[1;34m()\u001b[0m\n",
      "\u001b[1;32mpandas\\_libs\\index.pyx\u001b[0m in \u001b[0;36mpandas._libs.index.IndexEngine.get_loc\u001b[1;34m()\u001b[0m\n",
      "\u001b[1;32mpandas\\_libs\\hashtable_class_helper.pxi\u001b[0m in \u001b[0;36mpandas._libs.hashtable.PyObjectHashTable.get_item\u001b[1;34m()\u001b[0m\n",
      "\u001b[1;32mpandas\\_libs\\hashtable_class_helper.pxi\u001b[0m in \u001b[0;36mpandas._libs.hashtable.PyObjectHashTable.get_item\u001b[1;34m()\u001b[0m\n",
      "\u001b[1;31mKeyError\u001b[0m: 'Год выпуска'",
      "\nThe above exception was the direct cause of the following exception:\n",
      "\u001b[1;31mKeyError\u001b[0m                                  Traceback (most recent call last)",
      "\u001b[1;32m<ipython-input-12-87f973cea4f9>\u001b[0m in \u001b[0;36m<module>\u001b[1;34m\u001b[0m\n\u001b[1;32m----> 1\u001b[1;33m \u001b[0mdf3\u001b[0m \u001b[1;33m=\u001b[0m \u001b[0mdataset\u001b[0m\u001b[1;33m[\u001b[0m\u001b[1;34m'Год выпуска'\u001b[0m\u001b[1;33m]\u001b[0m\u001b[1;33m.\u001b[0m\u001b[0mstr\u001b[0m\u001b[1;33m[\u001b[0m\u001b[1;33m-\u001b[0m\u001b[1;36m4\u001b[0m\u001b[1;33m:\u001b[0m\u001b[1;33m]\u001b[0m\u001b[1;33m\u001b[0m\u001b[1;33m\u001b[0m\u001b[0m\n\u001b[0m\u001b[0;32m      2\u001b[0m \u001b[0mdf3\u001b[0m\u001b[1;33m.\u001b[0m\u001b[0mhead\u001b[0m\u001b[1;33m(\u001b[0m\u001b[1;33m)\u001b[0m\u001b[1;33m\u001b[0m\u001b[1;33m\u001b[0m\u001b[0m\n",
      "\u001b[1;32mM:\\vs code\\lib\\site-packages\\pandas\\core\\frame.py\u001b[0m in \u001b[0;36m__getitem__\u001b[1;34m(self, key)\u001b[0m\n\u001b[0;32m   3022\u001b[0m             \u001b[1;32mif\u001b[0m \u001b[0mself\u001b[0m\u001b[1;33m.\u001b[0m\u001b[0mcolumns\u001b[0m\u001b[1;33m.\u001b[0m\u001b[0mnlevels\u001b[0m \u001b[1;33m>\u001b[0m \u001b[1;36m1\u001b[0m\u001b[1;33m:\u001b[0m\u001b[1;33m\u001b[0m\u001b[1;33m\u001b[0m\u001b[0m\n\u001b[0;32m   3023\u001b[0m                 \u001b[1;32mreturn\u001b[0m \u001b[0mself\u001b[0m\u001b[1;33m.\u001b[0m\u001b[0m_getitem_multilevel\u001b[0m\u001b[1;33m(\u001b[0m\u001b[0mkey\u001b[0m\u001b[1;33m)\u001b[0m\u001b[1;33m\u001b[0m\u001b[1;33m\u001b[0m\u001b[0m\n\u001b[1;32m-> 3024\u001b[1;33m             \u001b[0mindexer\u001b[0m \u001b[1;33m=\u001b[0m \u001b[0mself\u001b[0m\u001b[1;33m.\u001b[0m\u001b[0mcolumns\u001b[0m\u001b[1;33m.\u001b[0m\u001b[0mget_loc\u001b[0m\u001b[1;33m(\u001b[0m\u001b[0mkey\u001b[0m\u001b[1;33m)\u001b[0m\u001b[1;33m\u001b[0m\u001b[1;33m\u001b[0m\u001b[0m\n\u001b[0m\u001b[0;32m   3025\u001b[0m             \u001b[1;32mif\u001b[0m \u001b[0mis_integer\u001b[0m\u001b[1;33m(\u001b[0m\u001b[0mindexer\u001b[0m\u001b[1;33m)\u001b[0m\u001b[1;33m:\u001b[0m\u001b[1;33m\u001b[0m\u001b[1;33m\u001b[0m\u001b[0m\n\u001b[0;32m   3026\u001b[0m                 \u001b[0mindexer\u001b[0m \u001b[1;33m=\u001b[0m \u001b[1;33m[\u001b[0m\u001b[0mindexer\u001b[0m\u001b[1;33m]\u001b[0m\u001b[1;33m\u001b[0m\u001b[1;33m\u001b[0m\u001b[0m\n",
      "\u001b[1;32mM:\\vs code\\lib\\site-packages\\pandas\\core\\indexes\\base.py\u001b[0m in \u001b[0;36mget_loc\u001b[1;34m(self, key, method, tolerance)\u001b[0m\n\u001b[0;32m   3080\u001b[0m                 \u001b[1;32mreturn\u001b[0m \u001b[0mself\u001b[0m\u001b[1;33m.\u001b[0m\u001b[0m_engine\u001b[0m\u001b[1;33m.\u001b[0m\u001b[0mget_loc\u001b[0m\u001b[1;33m(\u001b[0m\u001b[0mcasted_key\u001b[0m\u001b[1;33m)\u001b[0m\u001b[1;33m\u001b[0m\u001b[1;33m\u001b[0m\u001b[0m\n\u001b[0;32m   3081\u001b[0m             \u001b[1;32mexcept\u001b[0m \u001b[0mKeyError\u001b[0m \u001b[1;32mas\u001b[0m \u001b[0merr\u001b[0m\u001b[1;33m:\u001b[0m\u001b[1;33m\u001b[0m\u001b[1;33m\u001b[0m\u001b[0m\n\u001b[1;32m-> 3082\u001b[1;33m                 \u001b[1;32mraise\u001b[0m \u001b[0mKeyError\u001b[0m\u001b[1;33m(\u001b[0m\u001b[0mkey\u001b[0m\u001b[1;33m)\u001b[0m \u001b[1;32mfrom\u001b[0m \u001b[0merr\u001b[0m\u001b[1;33m\u001b[0m\u001b[1;33m\u001b[0m\u001b[0m\n\u001b[0m\u001b[0;32m   3083\u001b[0m \u001b[1;33m\u001b[0m\u001b[0m\n\u001b[0;32m   3084\u001b[0m         \u001b[1;32mif\u001b[0m \u001b[0mtolerance\u001b[0m \u001b[1;32mis\u001b[0m \u001b[1;32mnot\u001b[0m \u001b[1;32mNone\u001b[0m\u001b[1;33m:\u001b[0m\u001b[1;33m\u001b[0m\u001b[1;33m\u001b[0m\u001b[0m\n",
      "\u001b[1;31mKeyError\u001b[0m: 'Год выпуска'"
     ]
    }
   ],
   "source": [
    "df3 = dataset['Год выпуска'].str[-4:]\n",
    "df3.head()"
   ]
  },
  {
   "cell_type": "code",
   "execution_count": null,
   "id": "7004262e-1811-47a6-8068-d90cb2d40fd5",
   "metadata": {},
   "outputs": [],
   "source": [
    "df3.value_counts().head(10)"
   ]
  },
  {
   "cell_type": "markdown",
   "id": "69312f93-9899-4543-8235-0611bcf79f3c",
   "metadata": {},
   "source": [
    "### 4. How much customers pay for the contract in average and how this number is correlated with the bonus-malus class? "
   ]
  },
  {
   "cell_type": "code",
   "execution_count": null,
   "id": "6e1795d4-b63b-4dc9-9989-30700ea8ee6b",
   "metadata": {},
   "outputs": [],
   "source": [
    "dataset['КБМ'].mean()"
   ]
  },
  {
   "cell_type": "markdown",
   "id": "a25f9a32-e351-4623-898a-61b080b108c4",
   "metadata": {},
   "source": [
    "### 5. What is the most popular vehicle-make company in any 5 cities? (choose the cities you like most) "
   ]
  },
  {
   "cell_type": "code",
   "execution_count": null,
   "id": "bf5c74a0-cf6f-473d-9c96-3b307823d4c1",
   "metadata": {},
   "outputs": [],
   "source": [
    "city = dataset[dataset['Город'] == 'Павлодар']\n",
    "data10 = city.groupby('Город',as_index = True).Модель.value_counts().head(1)\n",
    "data10"
   ]
  },
  {
   "cell_type": "code",
   "execution_count": null,
   "id": "474e80fe-e203-4a91-a55e-1983ecc05f7f",
   "metadata": {},
   "outputs": [],
   "source": [
    "city = dataset[dataset['Город'] == 'Талдыкорган']\n",
    "data10 = city.groupby('Город',as_index = True).Модель.value_counts().head(1)\n",
    "data10"
   ]
  },
  {
   "cell_type": "code",
   "execution_count": null,
   "id": "dd581272-60fd-4033-a97e-f375c9d62698",
   "metadata": {},
   "outputs": [],
   "source": [
    "city = dataset[dataset['Город'] == 'Актобе']\n",
    "data10 = city.groupby('Город',as_index = True).Модель.value_counts().head(1)\n",
    "data10"
   ]
  },
  {
   "cell_type": "code",
   "execution_count": null,
   "id": "2856f8d3-89e6-4bd1-b740-ac9e1c43f7fd",
   "metadata": {},
   "outputs": [],
   "source": [
    "city = dataset[dataset['Город'] == 'Семей']\n",
    "data10 = city.groupby('Город',as_index = True).Модель.value_counts().head(1)\n",
    "data10"
   ]
  },
  {
   "cell_type": "code",
   "execution_count": null,
   "id": "ccf8c961-ca1e-49ce-a870-98c05482a633",
   "metadata": {},
   "outputs": [],
   "source": [
    "city = dataset[dataset['Город'] == 'Нур-Султан']\n",
    "data10 = city.groupby('Город',as_index = True).Модель.value_counts().head(1)\n",
    "data10"
   ]
  },
  {
   "cell_type": "markdown",
   "id": "ccae926f-b512-43a4-a13b-0f8351990a9a",
   "metadata": {},
   "source": [
    "### 6. What kind of vehicle colors people prefer most, dark ones or light ones? Group all colors to dark and light as you like.  "
   ]
  },
  {
   "cell_type": "code",
   "execution_count": null,
   "id": "82111e3b-f725-48c2-a552-bb51643b7a38",
   "metadata": {},
   "outputs": [],
   "source": [
    "dataset['Цвет'].value_counts().head()\n",
    "## here серебристый металлик архивный also a light color, so people more prefer to light color"
   ]
  },
  {
   "cell_type": "code",
   "execution_count": null,
   "id": "098041c2-f6f6-49fa-b3e2-3dcdaea10356",
   "metadata": {},
   "outputs": [],
   "source": [
    "dark = ['черный', 'синий','коричневый','серый','серый металлик', 'темно-синий перламутровый', 'серо-зелёный металлик', 'сиреневый', \n",
    "        'темно-синий металлик','серый металлик', 'темно-серый металлик архивный', 'баклажановый', 'графит',  \n",
    "        'вишневый', 'гранат', 'бордовый','зелёный', 'темно-серый', 'сине-зелёный','серо-зелёный архивный', 'коричневый', 'сенеж', \n",
    "        'темно-синий перламутровый', 'гранат', 'черный металик', 'темно-бордовый металлик', 'темно-красный металлик']\n",
    "light = ['абрикосовый', 'белый', 'серебристый металлик архивный', 'серебристый', 'белый с желтым отливом', \n",
    "         'золотое руно', 'айсберг', 'красный', 'снежная королева', 'фиолетовый', 'голубой металлик', 'желтый', \n",
    "         'светло-зелёный металлик', 'белый перламутровый', 'сафари', 'серо-белый',  \n",
    "         'серебристый', 'липа зеленая', 'ярко-синий', 'оливковый зелёный', 'сине-белый', \n",
    "         'бело-дымчатый', 'пепельный', 'малиновый', 'кипарис', 'лимонный', 'белый жемчужный', 'лиловый']"
   ]
  },
  {
   "cell_type": "code",
   "execution_count": null,
   "id": "1aea4e83-7ded-4a5c-846b-cbd87d1bd1d6",
   "metadata": {},
   "outputs": [],
   "source": [
    "colors = dataset[dataset['Цвет'].isin(light)]\n",
    "colors['Цвет'].count()"
   ]
  },
  {
   "cell_type": "markdown",
   "id": "b2e9e452-d826-4367-9e68-43e482d37ace",
   "metadata": {},
   "source": [
    "### 7. What is the most popular vehicle-make company for females in Almaty, Shymkent and Nur-Sultan (Astana) respectively?"
   ]
  },
  {
   "cell_type": "code",
   "execution_count": null,
   "id": "670f85df-3833-45a2-829a-112158d01e35",
   "metadata": {},
   "outputs": [],
   "source": [
    "data = dataset[dataset['Пол'] == 'Ж']\n",
    "data1 = data.loc[ dataset['Город'] == 'Алматы',['Модель','Город','Пол']].value_counts().head()\n",
    "data1"
   ]
  },
  {
   "cell_type": "code",
   "execution_count": null,
   "id": "358a0cb1-e169-4a17-91c6-2e53cb7a0509",
   "metadata": {},
   "outputs": [],
   "source": [
    "data = dataset[dataset['Пол'] == 'Ж']\n",
    "data2 = data.loc[ dataset['Город'] == 'Шымкент',['Модель','Город','Пол']].value_counts().head()\n",
    "data2"
   ]
  },
  {
   "cell_type": "code",
   "execution_count": null,
   "id": "d69c59ac-dfa2-4818-aa16-12920bd2a24c",
   "metadata": {},
   "outputs": [],
   "source": [
    "data = dataset[dataset['Пол'] == 'Ж']\n",
    "data3 = data.loc[ dataset['Город'] == 'Нур-Султан',['Модель','Город','Пол']].value_counts().head()\n",
    "data3"
   ]
  },
  {
   "cell_type": "markdown",
   "id": "87f3904d-8476-4664-b1b9-cd3e8bd165ac",
   "metadata": {},
   "source": [
    "### 8. What is the distribution of car road accidents for different cities?\n",
    "### Which city is in the first place for road accidents? \n",
    "### From the top-10 cities, is there any countrysides? "
   ]
  },
  {
   "cell_type": "code",
   "execution_count": null,
   "id": "a5671cb6-71ad-4181-b127-f866c525b4c6",
   "metadata": {},
   "outputs": [],
   "source": [
    "dataset.groupby('Гражданство',as_index = True).Acc_place.value_counts()\n",
    "# the first place for road accidents is Almaty\n",
    "# Тимирязево is the one of the countryside that had accidents"
   ]
  },
  {
   "cell_type": "markdown",
   "id": "48efab06-0338-4e69-aaf9-c94d2bba8081",
   "metadata": {},
   "source": [
    "### 9. How many people had more than 1 car in one year? Is there any driver who had more than 1 car accident in one year? "
   ]
  },
  {
   "cell_type": "code",
   "execution_count": null,
   "id": "0104f747-9ea0-441c-a894-88169e4ee25e",
   "metadata": {},
   "outputs": [],
   "source": [
    "data8 = dataset[dataset.duplicated(['Driver','Acc_place','Acc','year'])]\n",
    "data8"
   ]
  },
  {
   "cell_type": "code",
   "execution_count": null,
   "id": "059d6b63-9759-4866-a100-4e1a0c0fb310",
   "metadata": {},
   "outputs": [],
   "source": [
    "data8 = dataset[dataset.duplicated(['Driver','Acc'])].Acc_place.value_counts()\n",
    "data8"
   ]
  },
  {
   "cell_type": "code",
   "execution_count": null,
   "id": "3367b7c4-c738-4d3c-86dd-f82fc4e2ce8c",
   "metadata": {},
   "outputs": [],
   "source": [
    "dataset.groupby('Driver',as_index = True).Acc.value_counts().sort_values(ascending = False)"
   ]
  },
  {
   "cell_type": "markdown",
   "id": "ac1ccf14-7372-4805-96db-a074487032c6",
   "metadata": {},
   "source": [
    "### 10. What is the distribution of road accidents based on the bonus-malus class? "
   ]
  },
  {
   "cell_type": "code",
   "execution_count": null,
   "id": "fa0cbd0b-42f1-4305-9593-51b7592f869b",
   "metadata": {},
   "outputs": [],
   "source": [
    "dataset['КБМ'].value_counts().sort_values(ascending = True)"
   ]
  }
 ],
 "metadata": {
  "kernelspec": {
   "display_name": "Python 3",
   "language": "python",
   "name": "python3"
  },
  "language_info": {
   "codemirror_mode": {
    "name": "ipython",
    "version": 3
   },
   "file_extension": ".py",
   "mimetype": "text/x-python",
   "name": "python",
   "nbconvert_exporter": "python",
   "pygments_lexer": "ipython3",
   "version": "3.8.8"
  }
 },
 "nbformat": 4,
 "nbformat_minor": 5
}
