{
 "cells": [
  {
   "cell_type": "markdown",
   "id": "e05ca251",
   "metadata": {},
   "source": [
    "# 1. Importing libraries"
   ]
  },
  {
   "cell_type": "code",
   "execution_count": 1,
   "id": "a3bc5edc",
   "metadata": {},
   "outputs": [],
   "source": [
    "import numpy as np\n",
    "import pandas as pd\n",
    "import seaborn as sns\n",
    "import matplotlib.pyplot as plt\n",
    "\n",
    "%matplotlib inline\n",
    "plt.style.use('bmh')"
   ]
  },
  {
   "cell_type": "markdown",
   "id": "39c0f4f8",
   "metadata": {},
   "source": [
    "# 2. Descriptive stat"
   ]
  },
  {
   "cell_type": "code",
   "execution_count": 2,
   "id": "2529c00b",
   "metadata": {},
   "outputs": [
    {
     "data": {
      "text/html": [
       "<div>\n",
       "<style scoped>\n",
       "    .dataframe tbody tr th:only-of-type {\n",
       "        vertical-align: middle;\n",
       "    }\n",
       "\n",
       "    .dataframe tbody tr th {\n",
       "        vertical-align: top;\n",
       "    }\n",
       "\n",
       "    .dataframe thead th {\n",
       "        text-align: right;\n",
       "    }\n",
       "</style>\n",
       "<table border=\"1\" class=\"dataframe\">\n",
       "  <thead>\n",
       "    <tr style=\"text-align: right;\">\n",
       "      <th></th>\n",
       "      <th>client_id</th>\n",
       "      <th>target</th>\n",
       "    </tr>\n",
       "  </thead>\n",
       "  <tbody>\n",
       "    <tr>\n",
       "      <th>0</th>\n",
       "      <td>75063019</td>\n",
       "      <td>0</td>\n",
       "    </tr>\n",
       "    <tr>\n",
       "      <th>1</th>\n",
       "      <td>86227647</td>\n",
       "      <td>1</td>\n",
       "    </tr>\n",
       "    <tr>\n",
       "      <th>2</th>\n",
       "      <td>6506523</td>\n",
       "      <td>0</td>\n",
       "    </tr>\n",
       "    <tr>\n",
       "      <th>3</th>\n",
       "      <td>50615998</td>\n",
       "      <td>0</td>\n",
       "    </tr>\n",
       "    <tr>\n",
       "      <th>4</th>\n",
       "      <td>95213230</td>\n",
       "      <td>0</td>\n",
       "    </tr>\n",
       "  </tbody>\n",
       "</table>\n",
       "</div>"
      ],
      "text/plain": [
       "   client_id  target\n",
       "0   75063019       0\n",
       "1   86227647       1\n",
       "2    6506523       0\n",
       "3   50615998       0\n",
       "4   95213230       0"
      ]
     },
     "execution_count": 2,
     "metadata": {},
     "output_type": "execute_result"
    }
   ],
   "source": [
    "train_set = pd.read_csv('train_set.csv', delimiter = ';')\n",
    "train_set.head()"
   ]
  },
  {
   "cell_type": "code",
   "execution_count": 3,
   "id": "fb468a01",
   "metadata": {},
   "outputs": [
    {
     "data": {
      "text/html": [
       "<div>\n",
       "<style scoped>\n",
       "    .dataframe tbody tr th:only-of-type {\n",
       "        vertical-align: middle;\n",
       "    }\n",
       "\n",
       "    .dataframe tbody tr th {\n",
       "        vertical-align: top;\n",
       "    }\n",
       "\n",
       "    .dataframe thead th {\n",
       "        text-align: right;\n",
       "    }\n",
       "</style>\n",
       "<table border=\"1\" class=\"dataframe\">\n",
       "  <thead>\n",
       "    <tr style=\"text-align: right;\">\n",
       "      <th></th>\n",
       "      <th>client_id</th>\n",
       "      <th>target</th>\n",
       "    </tr>\n",
       "  </thead>\n",
       "  <tbody>\n",
       "    <tr>\n",
       "      <th>count</th>\n",
       "      <td>6.000000e+03</td>\n",
       "      <td>6000.000000</td>\n",
       "    </tr>\n",
       "    <tr>\n",
       "      <th>mean</th>\n",
       "      <td>5.102984e+07</td>\n",
       "      <td>0.443333</td>\n",
       "    </tr>\n",
       "    <tr>\n",
       "      <th>std</th>\n",
       "      <td>2.881391e+07</td>\n",
       "      <td>0.496820</td>\n",
       "    </tr>\n",
       "    <tr>\n",
       "      <th>min</th>\n",
       "      <td>2.289900e+04</td>\n",
       "      <td>0.000000</td>\n",
       "    </tr>\n",
       "    <tr>\n",
       "      <th>25%</th>\n",
       "      <td>2.612906e+07</td>\n",
       "      <td>0.000000</td>\n",
       "    </tr>\n",
       "    <tr>\n",
       "      <th>50%</th>\n",
       "      <td>5.164080e+07</td>\n",
       "      <td>0.000000</td>\n",
       "    </tr>\n",
       "    <tr>\n",
       "      <th>75%</th>\n",
       "      <td>7.590927e+07</td>\n",
       "      <td>1.000000</td>\n",
       "    </tr>\n",
       "    <tr>\n",
       "      <th>max</th>\n",
       "      <td>9.999124e+07</td>\n",
       "      <td>1.000000</td>\n",
       "    </tr>\n",
       "  </tbody>\n",
       "</table>\n",
       "</div>"
      ],
      "text/plain": [
       "          client_id       target\n",
       "count  6.000000e+03  6000.000000\n",
       "mean   5.102984e+07     0.443333\n",
       "std    2.881391e+07     0.496820\n",
       "min    2.289900e+04     0.000000\n",
       "25%    2.612906e+07     0.000000\n",
       "50%    5.164080e+07     0.000000\n",
       "75%    7.590927e+07     1.000000\n",
       "max    9.999124e+07     1.000000"
      ]
     },
     "execution_count": 3,
     "metadata": {},
     "output_type": "execute_result"
    }
   ],
   "source": [
    "# dataset is not disbalanced\n",
    "train_set.describe()"
   ]
  },
  {
   "cell_type": "code",
   "execution_count": 4,
   "id": "1c989e49",
   "metadata": {},
   "outputs": [
    {
     "data": {
      "text/html": [
       "<div>\n",
       "<style scoped>\n",
       "    .dataframe tbody tr th:only-of-type {\n",
       "        vertical-align: middle;\n",
       "    }\n",
       "\n",
       "    .dataframe tbody tr th {\n",
       "        vertical-align: top;\n",
       "    }\n",
       "\n",
       "    .dataframe thead th {\n",
       "        text-align: right;\n",
       "    }\n",
       "</style>\n",
       "<table border=\"1\" class=\"dataframe\">\n",
       "  <thead>\n",
       "    <tr style=\"text-align: right;\">\n",
       "      <th></th>\n",
       "      <th>client_id</th>\n",
       "    </tr>\n",
       "  </thead>\n",
       "  <tbody>\n",
       "    <tr>\n",
       "      <th>0</th>\n",
       "      <td>61240380</td>\n",
       "    </tr>\n",
       "    <tr>\n",
       "      <th>1</th>\n",
       "      <td>34114030</td>\n",
       "    </tr>\n",
       "    <tr>\n",
       "      <th>2</th>\n",
       "      <td>15926722</td>\n",
       "    </tr>\n",
       "    <tr>\n",
       "      <th>3</th>\n",
       "      <td>50598019</td>\n",
       "    </tr>\n",
       "    <tr>\n",
       "      <th>4</th>\n",
       "      <td>76475250</td>\n",
       "    </tr>\n",
       "  </tbody>\n",
       "</table>\n",
       "</div>"
      ],
      "text/plain": [
       "   client_id\n",
       "0   61240380\n",
       "1   34114030\n",
       "2   15926722\n",
       "3   50598019\n",
       "4   76475250"
      ]
     },
     "execution_count": 4,
     "metadata": {},
     "output_type": "execute_result"
    }
   ],
   "source": [
    "test_set = pd.read_csv('test_set.csv', delimiter = ';')\n",
    "test_set.head()"
   ]
  },
  {
   "cell_type": "code",
   "execution_count": 5,
   "id": "478ae9c3",
   "metadata": {},
   "outputs": [
    {
     "data": {
      "text/plain": [
       "(2656, 1)"
      ]
     },
     "execution_count": 5,
     "metadata": {},
     "output_type": "execute_result"
    }
   ],
   "source": [
    "test_set.shape"
   ]
  },
  {
   "cell_type": "code",
   "execution_count": 6,
   "id": "9f79206f",
   "metadata": {},
   "outputs": [
    {
     "data": {
      "text/html": [
       "<div>\n",
       "<style scoped>\n",
       "    .dataframe tbody tr th:only-of-type {\n",
       "        vertical-align: middle;\n",
       "    }\n",
       "\n",
       "    .dataframe tbody tr th {\n",
       "        vertical-align: top;\n",
       "    }\n",
       "\n",
       "    .dataframe thead th {\n",
       "        text-align: right;\n",
       "    }\n",
       "</style>\n",
       "<table border=\"1\" class=\"dataframe\">\n",
       "  <thead>\n",
       "    <tr style=\"text-align: right;\">\n",
       "      <th></th>\n",
       "      <th>client_id</th>\n",
       "      <th>datetime</th>\n",
       "      <th>code</th>\n",
       "      <th>type</th>\n",
       "      <th>sum</th>\n",
       "    </tr>\n",
       "  </thead>\n",
       "  <tbody>\n",
       "    <tr>\n",
       "      <th>0</th>\n",
       "      <td>96372458</td>\n",
       "      <td>421 06:33:15</td>\n",
       "      <td>6011</td>\n",
       "      <td>2010</td>\n",
       "      <td>-561478.94</td>\n",
       "    </tr>\n",
       "    <tr>\n",
       "      <th>1</th>\n",
       "      <td>24567813</td>\n",
       "      <td>377 17:20:40</td>\n",
       "      <td>6011</td>\n",
       "      <td>7010</td>\n",
       "      <td>67377.47</td>\n",
       "    </tr>\n",
       "    <tr>\n",
       "      <th>2</th>\n",
       "      <td>21717441</td>\n",
       "      <td>55 13:38:47</td>\n",
       "      <td>6011</td>\n",
       "      <td>2010</td>\n",
       "      <td>-44918.32</td>\n",
       "    </tr>\n",
       "    <tr>\n",
       "      <th>3</th>\n",
       "      <td>14331004</td>\n",
       "      <td>263 12:57:08</td>\n",
       "      <td>6011</td>\n",
       "      <td>2010</td>\n",
       "      <td>-3368873.66</td>\n",
       "    </tr>\n",
       "    <tr>\n",
       "      <th>4</th>\n",
       "      <td>85302434</td>\n",
       "      <td>151 10:34:12</td>\n",
       "      <td>4814</td>\n",
       "      <td>1030</td>\n",
       "      <td>-3368.87</td>\n",
       "    </tr>\n",
       "  </tbody>\n",
       "</table>\n",
       "</div>"
      ],
      "text/plain": [
       "   client_id      datetime  code  type         sum\n",
       "0   96372458  421 06:33:15  6011  2010  -561478.94\n",
       "1   24567813  377 17:20:40  6011  7010    67377.47\n",
       "2   21717441   55 13:38:47  6011  2010   -44918.32\n",
       "3   14331004  263 12:57:08  6011  2010 -3368873.66\n",
       "4   85302434  151 10:34:12  4814  1030    -3368.87"
      ]
     },
     "execution_count": 6,
     "metadata": {},
     "output_type": "execute_result"
    }
   ],
   "source": [
    "transactions = pd.read_csv('transactions.csv', delimiter = ';')\n",
    "transactions.head()"
   ]
  },
  {
   "cell_type": "code",
   "execution_count": 7,
   "id": "0c19df81",
   "metadata": {},
   "outputs": [
    {
     "data": {
      "text/html": [
       "<div>\n",
       "<style scoped>\n",
       "    .dataframe tbody tr th:only-of-type {\n",
       "        vertical-align: middle;\n",
       "    }\n",
       "\n",
       "    .dataframe tbody tr th {\n",
       "        vertical-align: top;\n",
       "    }\n",
       "\n",
       "    .dataframe thead th {\n",
       "        text-align: right;\n",
       "    }\n",
       "</style>\n",
       "<table border=\"1\" class=\"dataframe\">\n",
       "  <thead>\n",
       "    <tr style=\"text-align: right;\">\n",
       "      <th></th>\n",
       "      <th>client_id</th>\n",
       "      <th>code</th>\n",
       "      <th>type</th>\n",
       "      <th>sum</th>\n",
       "    </tr>\n",
       "  </thead>\n",
       "  <tbody>\n",
       "    <tr>\n",
       "      <th>count</th>\n",
       "      <td>1.300390e+05</td>\n",
       "      <td>130039.000000</td>\n",
       "      <td>130039.000000</td>\n",
       "      <td>1.300390e+05</td>\n",
       "    </tr>\n",
       "    <tr>\n",
       "      <th>mean</th>\n",
       "      <td>5.086859e+07</td>\n",
       "      <td>5594.629996</td>\n",
       "      <td>2489.372135</td>\n",
       "      <td>-1.812909e+04</td>\n",
       "    </tr>\n",
       "    <tr>\n",
       "      <th>std</th>\n",
       "      <td>2.872854e+07</td>\n",
       "      <td>606.087084</td>\n",
       "      <td>2253.296578</td>\n",
       "      <td>5.584445e+05</td>\n",
       "    </tr>\n",
       "    <tr>\n",
       "      <th>min</th>\n",
       "      <td>2.289900e+04</td>\n",
       "      <td>742.000000</td>\n",
       "      <td>1000.000000</td>\n",
       "      <td>-4.150030e+07</td>\n",
       "    </tr>\n",
       "    <tr>\n",
       "      <th>25%</th>\n",
       "      <td>2.577174e+07</td>\n",
       "      <td>5211.000000</td>\n",
       "      <td>1030.000000</td>\n",
       "      <td>-2.244916e+04</td>\n",
       "    </tr>\n",
       "    <tr>\n",
       "      <th>50%</th>\n",
       "      <td>5.235837e+07</td>\n",
       "      <td>5641.000000</td>\n",
       "      <td>1110.000000</td>\n",
       "      <td>-5.502490e+03</td>\n",
       "    </tr>\n",
       "    <tr>\n",
       "      <th>75%</th>\n",
       "      <td>7.506302e+07</td>\n",
       "      <td>6010.000000</td>\n",
       "      <td>2370.000000</td>\n",
       "      <td>-1.122960e+03</td>\n",
       "    </tr>\n",
       "    <tr>\n",
       "      <th>max</th>\n",
       "      <td>9.999968e+07</td>\n",
       "      <td>9402.000000</td>\n",
       "      <td>8145.000000</td>\n",
       "      <td>6.737747e+07</td>\n",
       "    </tr>\n",
       "  </tbody>\n",
       "</table>\n",
       "</div>"
      ],
      "text/plain": [
       "          client_id           code           type           sum\n",
       "count  1.300390e+05  130039.000000  130039.000000  1.300390e+05\n",
       "mean   5.086859e+07    5594.629996    2489.372135 -1.812909e+04\n",
       "std    2.872854e+07     606.087084    2253.296578  5.584445e+05\n",
       "min    2.289900e+04     742.000000    1000.000000 -4.150030e+07\n",
       "25%    2.577174e+07    5211.000000    1030.000000 -2.244916e+04\n",
       "50%    5.235837e+07    5641.000000    1110.000000 -5.502490e+03\n",
       "75%    7.506302e+07    6010.000000    2370.000000 -1.122960e+03\n",
       "max    9.999968e+07    9402.000000    8145.000000  6.737747e+07"
      ]
     },
     "execution_count": 7,
     "metadata": {},
     "output_type": "execute_result"
    }
   ],
   "source": [
    "transactions.describe()"
   ]
  },
  {
   "cell_type": "code",
   "execution_count": 8,
   "id": "64e804f1",
   "metadata": {},
   "outputs": [
    {
     "data": {
      "text/html": [
       "<div>\n",
       "<style scoped>\n",
       "    .dataframe tbody tr th:only-of-type {\n",
       "        vertical-align: middle;\n",
       "    }\n",
       "\n",
       "    .dataframe tbody tr th {\n",
       "        vertical-align: top;\n",
       "    }\n",
       "\n",
       "    .dataframe thead th {\n",
       "        text-align: right;\n",
       "    }\n",
       "</style>\n",
       "<table border=\"1\" class=\"dataframe\">\n",
       "  <thead>\n",
       "    <tr style=\"text-align: right;\">\n",
       "      <th></th>\n",
       "      <th>type</th>\n",
       "      <th>type_description</th>\n",
       "    </tr>\n",
       "  </thead>\n",
       "  <tbody>\n",
       "    <tr>\n",
       "      <th>0</th>\n",
       "      <td>8001</td>\n",
       "      <td>Установление расх. лимита по карте</td>\n",
       "    </tr>\n",
       "    <tr>\n",
       "      <th>1</th>\n",
       "      <td>2411</td>\n",
       "      <td>Перевод с карты на счет др.лица в одном тер. б...</td>\n",
       "    </tr>\n",
       "    <tr>\n",
       "      <th>2</th>\n",
       "      <td>4035</td>\n",
       "      <td>н/д(нет данных)</td>\n",
       "    </tr>\n",
       "    <tr>\n",
       "      <th>3</th>\n",
       "      <td>3001</td>\n",
       "      <td>Комиссия за обслуживание ссудного счета</td>\n",
       "    </tr>\n",
       "    <tr>\n",
       "      <th>4</th>\n",
       "      <td>2420</td>\n",
       "      <td>Перевод с карты на счет физ.лица в другом тер....</td>\n",
       "    </tr>\n",
       "  </tbody>\n",
       "</table>\n",
       "</div>"
      ],
      "text/plain": [
       "   type                                   type_description\n",
       "0  8001                 Установление расх. лимита по карте\n",
       "1  2411  Перевод с карты на счет др.лица в одном тер. б...\n",
       "2  4035                                    н/д(нет данных)\n",
       "3  3001            Комиссия за обслуживание ссудного счета\n",
       "4  2420  Перевод с карты на счет физ.лица в другом тер...."
      ]
     },
     "execution_count": 8,
     "metadata": {},
     "output_type": "execute_result"
    }
   ],
   "source": [
    "types = pd.read_csv('types.csv', delimiter = ';')\n",
    "types.head()"
   ]
  },
  {
   "cell_type": "code",
   "execution_count": 9,
   "id": "d3e44cfb",
   "metadata": {},
   "outputs": [
    {
     "data": {
      "text/plain": [
       "(155, 2)"
      ]
     },
     "execution_count": 9,
     "metadata": {},
     "output_type": "execute_result"
    }
   ],
   "source": [
    "types.shape"
   ]
  },
  {
   "cell_type": "code",
   "execution_count": 10,
   "id": "c64cfbd5",
   "metadata": {},
   "outputs": [
    {
     "data": {
      "text/html": [
       "<div>\n",
       "<style scoped>\n",
       "    .dataframe tbody tr th:only-of-type {\n",
       "        vertical-align: middle;\n",
       "    }\n",
       "\n",
       "    .dataframe tbody tr th {\n",
       "        vertical-align: top;\n",
       "    }\n",
       "\n",
       "    .dataframe thead th {\n",
       "        text-align: right;\n",
       "    }\n",
       "</style>\n",
       "<table border=\"1\" class=\"dataframe\">\n",
       "  <thead>\n",
       "    <tr style=\"text-align: right;\">\n",
       "      <th></th>\n",
       "      <th>code</th>\n",
       "      <th>code_description</th>\n",
       "    </tr>\n",
       "  </thead>\n",
       "  <tbody>\n",
       "    <tr>\n",
       "      <th>0</th>\n",
       "      <td>5944</td>\n",
       "      <td>Магазины по продаже часов, ювелирных изделий и...</td>\n",
       "    </tr>\n",
       "    <tr>\n",
       "      <th>1</th>\n",
       "      <td>5621</td>\n",
       "      <td>Готовые сумочные изделия</td>\n",
       "    </tr>\n",
       "    <tr>\n",
       "      <th>2</th>\n",
       "      <td>5697</td>\n",
       "      <td>Услуги по переделке, починке и пошиву одежды</td>\n",
       "    </tr>\n",
       "    <tr>\n",
       "      <th>3</th>\n",
       "      <td>7995</td>\n",
       "      <td>Транзакции по азартным играм</td>\n",
       "    </tr>\n",
       "    <tr>\n",
       "      <th>4</th>\n",
       "      <td>5137</td>\n",
       "      <td>Мужская, женская и детская спец-одежда</td>\n",
       "    </tr>\n",
       "  </tbody>\n",
       "</table>\n",
       "</div>"
      ],
      "text/plain": [
       "   code                                   code_description\n",
       "0  5944  Магазины по продаже часов, ювелирных изделий и...\n",
       "1  5621                           Готовые сумочные изделия\n",
       "2  5697       Услуги по переделке, починке и пошиву одежды\n",
       "3  7995                       Транзакции по азартным играм\n",
       "4  5137             Мужская, женская и детская спец-одежда"
      ]
     },
     "execution_count": 10,
     "metadata": {},
     "output_type": "execute_result"
    }
   ],
   "source": [
    "codes = pd.read_csv('codes.csv', delimiter = ';')\n",
    "codes.head()"
   ]
  },
  {
   "cell_type": "code",
   "execution_count": 11,
   "id": "e5187ea7",
   "metadata": {},
   "outputs": [
    {
     "name": "stderr",
     "output_type": "stream",
     "text": [
      "C:\\ProgramData\\Anaconda3\\lib\\site-packages\\seaborn\\distributions.py:2557: FutureWarning: `distplot` is a deprecated function and will be removed in a future version. Please adapt your code to use either `displot` (a figure-level function with similar flexibility) or `histplot` (an axes-level function for histograms).\n",
      "  warnings.warn(msg, FutureWarning)\n"
     ]
    },
    {
     "data": {
      "image/png": "[encoded data removed]",
      "text/plain": [
       "<Figure size 648x576 with 1 Axes>"
      ]
     },
     "metadata": {
      "needs_background": "light"
     },
     "output_type": "display_data"
    }
   ],
   "source": [
    "plt.figure(figsize=(9, 8))\n",
    "sns.distplot(transactions['sum'], color='g', bins=100, hist_kws={'alpha': 0.4});"
   ]
  },
  {
   "cell_type": "code",
   "execution_count": 12,
   "id": "a3978b42",
   "metadata": {},
   "outputs": [
    {
     "data": {
      "text/plain": [
       "1010    30802\n",
       "2010    20204\n",
       "1030    18368\n",
       "1110    17648\n",
       "7070    12915\n",
       "2370     6848\n",
       "7010     4989\n",
       "7030     2860\n",
       "1100     2232\n",
       "1200     1797\n",
       "7071     1538\n",
       "2330     1370\n",
       "4071     1175\n",
       "2371     1170\n",
       "2011     1139\n",
       "4010      583\n",
       "7031      568\n",
       "6110      409\n",
       "4051      393\n",
       "2331      390\n",
       "Name: type, dtype: int64"
      ]
     },
     "execution_count": 12,
     "metadata": {},
     "output_type": "execute_result"
    }
   ],
   "source": [
    "popular_types = transactions['type'].value_counts()[:20]\n",
    "popular_types"
   ]
  },
  {
   "cell_type": "code",
   "execution_count": 13,
   "id": "134f27d5",
   "metadata": {},
   "outputs": [
    {
     "data": {
      "text/plain": [
       "6011    27917\n",
       "6010    18684\n",
       "4814    18641\n",
       "5411    18490\n",
       "4829    11423\n",
       "5499     6480\n",
       "5912     2685\n",
       "5541     2672\n",
       "5331     2518\n",
       "5812     2052\n",
       "5814     1766\n",
       "5999     1108\n",
       "5921     1094\n",
       "5311      708\n",
       "5977      676\n",
       "5964      630\n",
       "5983      577\n",
       "5211      564\n",
       "5691      527\n",
       "7995      469\n",
       "Name: code, dtype: int64"
      ]
     },
     "execution_count": 13,
     "metadata": {},
     "output_type": "execute_result"
    }
   ],
   "source": [
    "popular_codes = transactions['code'].value_counts()[:20]\n",
    "popular_codes"
   ]
  },
  {
   "cell_type": "markdown",
   "id": "fc137f4c",
   "metadata": {},
   "source": [
    "# Feature engineering"
   ]
  },
  {
   "cell_type": "markdown",
   "id": "45e971a1",
   "metadata": {},
   "source": [
    "# Filling missing values"
   ]
  },
  {
   "cell_type": "code",
   "execution_count": 14,
   "id": "e5de6fd0",
   "metadata": {},
   "outputs": [
    {
     "data": {
      "text/html": [
       "<div>\n",
       "<style scoped>\n",
       "    .dataframe tbody tr th:only-of-type {\n",
       "        vertical-align: middle;\n",
       "    }\n",
       "\n",
       "    .dataframe tbody tr th {\n",
       "        vertical-align: top;\n",
       "    }\n",
       "\n",
       "    .dataframe thead th {\n",
       "        text-align: right;\n",
       "    }\n",
       "</style>\n",
       "<table border=\"1\" class=\"dataframe\">\n",
       "  <thead>\n",
       "    <tr style=\"text-align: right;\">\n",
       "      <th></th>\n",
       "      <th>type</th>\n",
       "      <th>type_description</th>\n",
       "    </tr>\n",
       "  </thead>\n",
       "  <tbody>\n",
       "    <tr>\n",
       "      <th>0</th>\n",
       "      <td>8001</td>\n",
       "      <td>Установление расх. лимита по карте</td>\n",
       "    </tr>\n",
       "    <tr>\n",
       "      <th>1</th>\n",
       "      <td>2411</td>\n",
       "      <td>Перевод с карты на счет др.лица в одном тер. б...</td>\n",
       "    </tr>\n",
       "    <tr>\n",
       "      <th>2</th>\n",
       "      <td>4035</td>\n",
       "      <td>NaN</td>\n",
       "    </tr>\n",
       "    <tr>\n",
       "      <th>3</th>\n",
       "      <td>3001</td>\n",
       "      <td>Комиссия за обслуживание ссудного счета</td>\n",
       "    </tr>\n",
       "    <tr>\n",
       "      <th>4</th>\n",
       "      <td>2420</td>\n",
       "      <td>Перевод с карты на счет физ.лица в другом тер....</td>\n",
       "    </tr>\n",
       "  </tbody>\n",
       "</table>\n",
       "</div>"
      ],
      "text/plain": [
       "   type                                   type_description\n",
       "0  8001                 Установление расх. лимита по карте\n",
       "1  2411  Перевод с карты на счет др.лица в одном тер. б...\n",
       "2  4035                                                NaN\n",
       "3  3001            Комиссия за обслуживание ссудного счета\n",
       "4  2420  Перевод с карты на счет физ.лица в другом тер...."
      ]
     },
     "execution_count": 14,
     "metadata": {},
     "output_type": "execute_result"
    }
   ],
   "source": [
    "types.loc[types['type_description'].isin(['н/д(нет данных)','н/д']),['type_description']]=np.nan\n",
    "types.head()"
   ]
  },
  {
   "cell_type": "markdown",
   "id": "91bcfc8f",
   "metadata": {},
   "source": [
    "# Transactions sum"
   ]
  },
  {
   "cell_type": "code",
   "execution_count": 15,
   "id": "220288e5",
   "metadata": {},
   "outputs": [
    {
     "data": {
      "text/html": [
       "<div>\n",
       "<style scoped>\n",
       "    .dataframe tbody tr th:only-of-type {\n",
       "        vertical-align: middle;\n",
       "    }\n",
       "\n",
       "    .dataframe tbody tr th {\n",
       "        vertical-align: top;\n",
       "    }\n",
       "\n",
       "    .dataframe thead th {\n",
       "        text-align: right;\n",
       "    }\n",
       "</style>\n",
       "<table border=\"1\" class=\"dataframe\">\n",
       "  <thead>\n",
       "    <tr style=\"text-align: right;\">\n",
       "      <th></th>\n",
       "      <th>sum</th>\n",
       "      <th>count_transactions</th>\n",
       "    </tr>\n",
       "    <tr>\n",
       "      <th>client_id</th>\n",
       "      <th></th>\n",
       "      <th></th>\n",
       "    </tr>\n",
       "  </thead>\n",
       "  <tbody>\n",
       "    <tr>\n",
       "      <th>22899</th>\n",
       "      <td>50847.54</td>\n",
       "      <td>9</td>\n",
       "    </tr>\n",
       "    <tr>\n",
       "      <th>27914</th>\n",
       "      <td>74115.21</td>\n",
       "      <td>4</td>\n",
       "    </tr>\n",
       "    <tr>\n",
       "      <th>28753</th>\n",
       "      <td>-2589800.29</td>\n",
       "      <td>13</td>\n",
       "    </tr>\n",
       "    <tr>\n",
       "      <th>31385</th>\n",
       "      <td>-83525.38</td>\n",
       "      <td>13</td>\n",
       "    </tr>\n",
       "    <tr>\n",
       "      <th>38084</th>\n",
       "      <td>693495.66</td>\n",
       "      <td>26</td>\n",
       "    </tr>\n",
       "  </tbody>\n",
       "</table>\n",
       "</div>"
      ],
      "text/plain": [
       "                  sum  count_transactions\n",
       "client_id                                \n",
       "22899        50847.54                   9\n",
       "27914        74115.21                   4\n",
       "28753     -2589800.29                  13\n",
       "31385       -83525.38                  13\n",
       "38084       693495.66                  26"
      ]
     },
     "execution_count": 15,
     "metadata": {},
     "output_type": "execute_result"
    }
   ],
   "source": [
    "transcactions_sum=transactions.groupby(\"client_id\").sum().drop(columns = ['code','type'])\n",
    "transcactions_count=aggregated_1 = transactions.groupby(\"client_id\").count().drop(columns = ['code','type', 'datetime']).rename(columns={'sum': 'count_transactions'})\n",
    "transcactions_sum_count = pd.concat([transcactions_sum, transcactions_count], axis=1, join=\"outer\")\n",
    "transcactions_sum_count.head()"
   ]
  },
  {
   "cell_type": "markdown",
   "id": "40845ef3",
   "metadata": {},
   "source": [
    "# Features"
   ]
  },
  {
   "cell_type": "code",
   "execution_count": 16,
   "id": "159bce90",
   "metadata": {},
   "outputs": [
    {
     "data": {
      "text/html": [
       "<div>\n",
       "<style scoped>\n",
       "    .dataframe tbody tr th:only-of-type {\n",
       "        vertical-align: middle;\n",
       "    }\n",
       "\n",
       "    .dataframe tbody tr th {\n",
       "        vertical-align: top;\n",
       "    }\n",
       "\n",
       "    .dataframe thead th {\n",
       "        text-align: right;\n",
       "    }\n",
       "</style>\n",
       "<table border=\"1\" class=\"dataframe\">\n",
       "  <thead>\n",
       "    <tr style=\"text-align: right;\">\n",
       "      <th></th>\n",
       "      <th>client_id</th>\n",
       "      <th>datetime</th>\n",
       "      <th>sum</th>\n",
       "      <th>day_number</th>\n",
       "      <th>time</th>\n",
       "    </tr>\n",
       "  </thead>\n",
       "  <tbody>\n",
       "    <tr>\n",
       "      <th>0</th>\n",
       "      <td>96372458</td>\n",
       "      <td>421 06:33:15</td>\n",
       "      <td>-561478.94</td>\n",
       "      <td>421</td>\n",
       "      <td>6</td>\n",
       "    </tr>\n",
       "    <tr>\n",
       "      <th>1</th>\n",
       "      <td>24567813</td>\n",
       "      <td>377 17:20:40</td>\n",
       "      <td>67377.47</td>\n",
       "      <td>377</td>\n",
       "      <td>17</td>\n",
       "    </tr>\n",
       "    <tr>\n",
       "      <th>2</th>\n",
       "      <td>21717441</td>\n",
       "      <td>55 13:38:47</td>\n",
       "      <td>-44918.32</td>\n",
       "      <td>55</td>\n",
       "      <td>13</td>\n",
       "    </tr>\n",
       "    <tr>\n",
       "      <th>3</th>\n",
       "      <td>14331004</td>\n",
       "      <td>263 12:57:08</td>\n",
       "      <td>-3368873.66</td>\n",
       "      <td>263</td>\n",
       "      <td>12</td>\n",
       "    </tr>\n",
       "    <tr>\n",
       "      <th>4</th>\n",
       "      <td>85302434</td>\n",
       "      <td>151 10:34:12</td>\n",
       "      <td>-3368.87</td>\n",
       "      <td>151</td>\n",
       "      <td>10</td>\n",
       "    </tr>\n",
       "  </tbody>\n",
       "</table>\n",
       "</div>"
      ],
      "text/plain": [
       "   client_id      datetime         sum day_number  time\n",
       "0   96372458  421 06:33:15  -561478.94        421     6\n",
       "1   24567813  377 17:20:40    67377.47        377    17\n",
       "2   21717441   55 13:38:47   -44918.32        55     13\n",
       "3   14331004  263 12:57:08 -3368873.66        263    12\n",
       "4   85302434  151 10:34:12    -3368.87        151    10"
      ]
     },
     "execution_count": 16,
     "metadata": {},
     "output_type": "execute_result"
    }
   ],
   "source": [
    "time = transactions.drop(columns = ['code', 'type'])\n",
    "time['day_number'] = transactions['datetime'].str[:3]\n",
    "time['time'] = transactions['datetime'].str[-8:].str[:2]\n",
    "time['time'] = time['time'].astype(int)\n",
    "time.head()"
   ]
  },
  {
   "cell_type": "code",
   "execution_count": 17,
   "id": "8bcc1470",
   "metadata": {},
   "outputs": [
    {
     "data": {
      "text/html": [
       "<div>\n",
       "<style scoped>\n",
       "    .dataframe tbody tr th:only-of-type {\n",
       "        vertical-align: middle;\n",
       "    }\n",
       "\n",
       "    .dataframe tbody tr th {\n",
       "        vertical-align: top;\n",
       "    }\n",
       "\n",
       "    .dataframe thead th {\n",
       "        text-align: right;\n",
       "    }\n",
       "</style>\n",
       "<table border=\"1\" class=\"dataframe\">\n",
       "  <thead>\n",
       "    <tr style=\"text-align: right;\">\n",
       "      <th></th>\n",
       "      <th>sum_of_transactions</th>\n",
       "      <th>count_transactions</th>\n",
       "      <th>Code_mode</th>\n",
       "      <th>Type_mode</th>\n",
       "      <th>hour_mean</th>\n",
       "    </tr>\n",
       "    <tr>\n",
       "      <th>client_id</th>\n",
       "      <th></th>\n",
       "      <th></th>\n",
       "      <th></th>\n",
       "      <th></th>\n",
       "      <th></th>\n",
       "    </tr>\n",
       "  </thead>\n",
       "  <tbody>\n",
       "    <tr>\n",
       "      <th>22899</th>\n",
       "      <td>50847.54</td>\n",
       "      <td>9</td>\n",
       "      <td>6010.0</td>\n",
       "      <td>4010.0</td>\n",
       "      <td>13.555556</td>\n",
       "    </tr>\n",
       "    <tr>\n",
       "      <th>27914</th>\n",
       "      <td>74115.21</td>\n",
       "      <td>4</td>\n",
       "      <td>5412.0</td>\n",
       "      <td>4020.0</td>\n",
       "      <td>12.250000</td>\n",
       "    </tr>\n",
       "    <tr>\n",
       "      <th>28753</th>\n",
       "      <td>-2589800.29</td>\n",
       "      <td>13</td>\n",
       "      <td>5661.0</td>\n",
       "      <td>1030.0</td>\n",
       "      <td>7.000000</td>\n",
       "    </tr>\n",
       "    <tr>\n",
       "      <th>31385</th>\n",
       "      <td>-83525.38</td>\n",
       "      <td>13</td>\n",
       "      <td>5411.0</td>\n",
       "      <td>1030.0</td>\n",
       "      <td>14.538462</td>\n",
       "    </tr>\n",
       "    <tr>\n",
       "      <th>38084</th>\n",
       "      <td>693495.66</td>\n",
       "      <td>26</td>\n",
       "      <td>5411.0</td>\n",
       "      <td>1210.0</td>\n",
       "      <td>13.000000</td>\n",
       "    </tr>\n",
       "  </tbody>\n",
       "</table>\n",
       "</div>"
      ],
      "text/plain": [
       "           sum_of_transactions  count_transactions Code_mode Type_mode  \\\n",
       "client_id                                                                \n",
       "22899                 50847.54                   9    6010.0    4010.0   \n",
       "27914                 74115.21                   4    5412.0    4020.0   \n",
       "28753              -2589800.29                  13    5661.0    1030.0   \n",
       "31385                -83525.38                  13    5411.0    1030.0   \n",
       "38084                693495.66                  26    5411.0    1210.0   \n",
       "\n",
       "           hour_mean  \n",
       "client_id             \n",
       "22899      13.555556  \n",
       "27914      12.250000  \n",
       "28753       7.000000  \n",
       "31385      14.538462  \n",
       "38084      13.000000  "
      ]
     },
     "execution_count": 17,
     "metadata": {},
     "output_type": "execute_result"
    }
   ],
   "source": [
    "buffer = transactions.groupby(\"client_id\").median().drop(columns = 'sum')\n",
    "predictors = pd.concat([transcactions_sum_count, buffer], axis=1, join=\"outer\")\n",
    "predictors = predictors.rename(columns={'sum': 'sum_of_transactions', 'code': 'Code_mode', 'type': 'Type_mode'})\n",
    "predictors['Code_mode'] = predictors['Code_mode'].astype(\"category\")\n",
    "predictors['Type_mode'] = predictors['Type_mode'].astype(\"category\")\n",
    "buffer = time.drop(columns = ['sum', 'day_number', 'datetime']).groupby(\"client_id\").mean()\n",
    "buffer= buffer.rename(columns={'time': 'hour_mean'})\n",
    "predictors = pd.merge(predictors, buffer, on = 'client_id', how =\"left\")\n",
    "train_set = pd.merge(train_set, predictors, on = 'client_id', how =\"left\")\n",
    "predictors.head()"
   ]
  },
  {
   "cell_type": "code",
   "execution_count": 18,
   "id": "8dd07a33",
   "metadata": {},
   "outputs": [
    {
     "data": {
      "text/html": [
       "<div>\n",
       "<style scoped>\n",
       "    .dataframe tbody tr th:only-of-type {\n",
       "        vertical-align: middle;\n",
       "    }\n",
       "\n",
       "    .dataframe tbody tr th {\n",
       "        vertical-align: top;\n",
       "    }\n",
       "\n",
       "    .dataframe thead th {\n",
       "        text-align: right;\n",
       "    }\n",
       "</style>\n",
       "<table border=\"1\" class=\"dataframe\">\n",
       "  <thead>\n",
       "    <tr style=\"text-align: right;\">\n",
       "      <th></th>\n",
       "      <th>client_id</th>\n",
       "      <th>target</th>\n",
       "      <th>sum_of_transactions</th>\n",
       "      <th>count_transactions</th>\n",
       "      <th>Code_mode</th>\n",
       "      <th>Type_mode</th>\n",
       "      <th>hour_mean</th>\n",
       "      <th>Transactions_tendency</th>\n",
       "      <th>Transaction_mean</th>\n",
       "    </tr>\n",
       "  </thead>\n",
       "  <tbody>\n",
       "    <tr>\n",
       "      <th>0</th>\n",
       "      <td>75063019</td>\n",
       "      <td>0</td>\n",
       "      <td>89032.60</td>\n",
       "      <td>29</td>\n",
       "      <td>5411.0</td>\n",
       "      <td>1110.0</td>\n",
       "      <td>15.068966</td>\n",
       "      <td>+</td>\n",
       "      <td>3070.089655</td>\n",
       "    </tr>\n",
       "    <tr>\n",
       "      <th>1</th>\n",
       "      <td>86227647</td>\n",
       "      <td>1</td>\n",
       "      <td>-606058.60</td>\n",
       "      <td>27</td>\n",
       "      <td>5411.0</td>\n",
       "      <td>1110.0</td>\n",
       "      <td>11.222222</td>\n",
       "      <td>-</td>\n",
       "      <td>-22446.614815</td>\n",
       "    </tr>\n",
       "    <tr>\n",
       "      <th>2</th>\n",
       "      <td>6506523</td>\n",
       "      <td>0</td>\n",
       "      <td>2635753.74</td>\n",
       "      <td>53</td>\n",
       "      <td>6010.0</td>\n",
       "      <td>7030.0</td>\n",
       "      <td>13.735849</td>\n",
       "      <td>+</td>\n",
       "      <td>49731.202642</td>\n",
       "    </tr>\n",
       "    <tr>\n",
       "      <th>3</th>\n",
       "      <td>50615998</td>\n",
       "      <td>0</td>\n",
       "      <td>-42672.40</td>\n",
       "      <td>7</td>\n",
       "      <td>4829.0</td>\n",
       "      <td>2370.0</td>\n",
       "      <td>14.142857</td>\n",
       "      <td>-</td>\n",
       "      <td>-6096.057143</td>\n",
       "    </tr>\n",
       "    <tr>\n",
       "      <th>4</th>\n",
       "      <td>95213230</td>\n",
       "      <td>0</td>\n",
       "      <td>214292.66</td>\n",
       "      <td>34</td>\n",
       "      <td>5812.0</td>\n",
       "      <td>1030.0</td>\n",
       "      <td>9.617647</td>\n",
       "      <td>+</td>\n",
       "      <td>6302.725294</td>\n",
       "    </tr>\n",
       "  </tbody>\n",
       "</table>\n",
       "</div>"
      ],
      "text/plain": [
       "   client_id  target  sum_of_transactions  count_transactions Code_mode  \\\n",
       "0   75063019       0             89032.60                  29    5411.0   \n",
       "1   86227647       1           -606058.60                  27    5411.0   \n",
       "2    6506523       0           2635753.74                  53    6010.0   \n",
       "3   50615998       0            -42672.40                   7    4829.0   \n",
       "4   95213230       0            214292.66                  34    5812.0   \n",
       "\n",
       "  Type_mode  hour_mean Transactions_tendency  Transaction_mean  \n",
       "0    1110.0  15.068966                     +       3070.089655  \n",
       "1    1110.0  11.222222                     -     -22446.614815  \n",
       "2    7030.0  13.735849                     +      49731.202642  \n",
       "3    2370.0  14.142857                     -      -6096.057143  \n",
       "4    1030.0   9.617647                     +       6302.725294  "
      ]
     },
     "execution_count": 18,
     "metadata": {},
     "output_type": "execute_result"
    }
   ],
   "source": [
    "train_set['Transactions_tendency']='0'\n",
    "train_set.loc[train_set['sum_of_transactions']>0,'Transactions_tendency']='+'\n",
    "train_set.loc[train_set['sum_of_transactions']<0,'Transactions_tendency']='-'\n",
    "train_set['Transaction_mean']=train_set['sum_of_transactions']/train_set['count_transactions']\n",
    "train_set.head()"
   ]
  },
  {
   "cell_type": "markdown",
   "id": "d1efacfd",
   "metadata": {},
   "source": [
    "## 4. Cluster Analysis. Segment the customers"
   ]
  },
  {
   "cell_type": "code",
   "execution_count": 19,
   "id": "65918b87",
   "metadata": {},
   "outputs": [],
   "source": [
    "import matplotlib.pyplot as plt\n",
    "import seaborn as sns\n",
    "from mpl_toolkits.mplot3d import Axes3D\n",
    "%matplotlib inline"
   ]
  },
  {
   "cell_type": "markdown",
   "id": "042487a1",
   "metadata": {},
   "source": [
    "### Find and delete outliers from the count_transactions column.\n",
    "To analyse our cluster, we need to delete the outliers, because they will interfere with further analysis."
   ]
  },
  {
   "cell_type": "code",
   "execution_count": 20,
   "id": "185abda9",
   "metadata": {
    "scrolled": true
   },
   "outputs": [
    {
     "name": "stdout",
     "output_type": "stream",
     "text": [
      "Highest allowed 140.27577570278666\n",
      "Lowest allowed -109.66710903611998\n"
     ]
    }
   ],
   "source": [
    "#Finding the Boundary Values\n",
    "print(\"Highest allowed\",train_set['count_transactions'].mean() + 3*train_set['count_transactions'].std())\n",
    "print(\"Lowest allowed\",train_set['count_transactions'].mean() - 3*train_set['count_transactions'].std())"
   ]
  },
  {
   "cell_type": "code",
   "execution_count": 21,
   "id": "34e2eb06",
   "metadata": {},
   "outputs": [],
   "source": [
    "#Capping on Outliers\n",
    "upper_limit = train_set['count_transactions'].mean() + 3*train_set['count_transactions'].std()\n",
    "lower_limit = train_set['count_transactions'].mean() - 3*train_set['count_transactions'].std()"
   ]
  },
  {
   "cell_type": "code",
   "execution_count": 22,
   "id": "dfab9604",
   "metadata": {},
   "outputs": [],
   "source": [
    "#Now, apply the Capping\n",
    "train_set['count_transactions'] = np.where(\n",
    "    train_set['count_transactions']>upper_limit,\n",
    "    upper_limit,\n",
    "    np.where(\n",
    "        train_set['count_transactions']<lower_limit,\n",
    "        lower_limit,\n",
    "        train_set['count_transactions']\n",
    "    )\n",
    ")"
   ]
  },
  {
   "cell_type": "code",
   "execution_count": 23,
   "id": "a393479e",
   "metadata": {},
   "outputs": [
    {
     "data": {
      "text/plain": [
       "count    6000.000000\n",
       "mean       14.325166\n",
       "std        14.901623\n",
       "min         1.000000\n",
       "25%         5.000000\n",
       "50%        11.000000\n",
       "75%        19.000000\n",
       "max       140.275776\n",
       "Name: count_transactions, dtype: float64"
      ]
     },
     "execution_count": 23,
     "metadata": {},
     "output_type": "execute_result"
    }
   ],
   "source": [
    "#Now see the statistics using “Describe” Function\n",
    "train_set['count_transactions'].describe()"
   ]
  },
  {
   "cell_type": "code",
   "execution_count": 24,
   "id": "ba81c93c",
   "metadata": {},
   "outputs": [
    {
     "data": {
      "text/html": [
       "<div>\n",
       "<style scoped>\n",
       "    .dataframe tbody tr th:only-of-type {\n",
       "        vertical-align: middle;\n",
       "    }\n",
       "\n",
       "    .dataframe tbody tr th {\n",
       "        vertical-align: top;\n",
       "    }\n",
       "\n",
       "    .dataframe thead th {\n",
       "        text-align: right;\n",
       "    }\n",
       "</style>\n",
       "<table border=\"1\" class=\"dataframe\">\n",
       "  <thead>\n",
       "    <tr style=\"text-align: right;\">\n",
       "      <th></th>\n",
       "      <th>client_id</th>\n",
       "      <th>target</th>\n",
       "      <th>sum_of_transactions</th>\n",
       "      <th>count_transactions</th>\n",
       "      <th>Code_mode</th>\n",
       "      <th>Type_mode</th>\n",
       "      <th>hour_mean</th>\n",
       "      <th>Transactions_tendency</th>\n",
       "      <th>Transaction_mean</th>\n",
       "    </tr>\n",
       "  </thead>\n",
       "  <tbody>\n",
       "    <tr>\n",
       "      <th>0</th>\n",
       "      <td>75063019</td>\n",
       "      <td>0</td>\n",
       "      <td>89032.60</td>\n",
       "      <td>29.0</td>\n",
       "      <td>5411.0</td>\n",
       "      <td>1110.0</td>\n",
       "      <td>15.068966</td>\n",
       "      <td>+</td>\n",
       "      <td>3070.089655</td>\n",
       "    </tr>\n",
       "    <tr>\n",
       "      <th>1</th>\n",
       "      <td>86227647</td>\n",
       "      <td>1</td>\n",
       "      <td>-606058.60</td>\n",
       "      <td>27.0</td>\n",
       "      <td>5411.0</td>\n",
       "      <td>1110.0</td>\n",
       "      <td>11.222222</td>\n",
       "      <td>-</td>\n",
       "      <td>-22446.614815</td>\n",
       "    </tr>\n",
       "    <tr>\n",
       "      <th>2</th>\n",
       "      <td>6506523</td>\n",
       "      <td>0</td>\n",
       "      <td>2635753.74</td>\n",
       "      <td>53.0</td>\n",
       "      <td>6010.0</td>\n",
       "      <td>7030.0</td>\n",
       "      <td>13.735849</td>\n",
       "      <td>+</td>\n",
       "      <td>49731.202642</td>\n",
       "    </tr>\n",
       "    <tr>\n",
       "      <th>3</th>\n",
       "      <td>50615998</td>\n",
       "      <td>0</td>\n",
       "      <td>-42672.40</td>\n",
       "      <td>7.0</td>\n",
       "      <td>4829.0</td>\n",
       "      <td>2370.0</td>\n",
       "      <td>14.142857</td>\n",
       "      <td>-</td>\n",
       "      <td>-6096.057143</td>\n",
       "    </tr>\n",
       "    <tr>\n",
       "      <th>4</th>\n",
       "      <td>95213230</td>\n",
       "      <td>0</td>\n",
       "      <td>214292.66</td>\n",
       "      <td>34.0</td>\n",
       "      <td>5812.0</td>\n",
       "      <td>1030.0</td>\n",
       "      <td>9.617647</td>\n",
       "      <td>+</td>\n",
       "      <td>6302.725294</td>\n",
       "    </tr>\n",
       "  </tbody>\n",
       "</table>\n",
       "</div>"
      ],
      "text/plain": [
       "   client_id  target  sum_of_transactions  count_transactions Code_mode  \\\n",
       "0   75063019       0             89032.60                29.0    5411.0   \n",
       "1   86227647       1           -606058.60                27.0    5411.0   \n",
       "2    6506523       0           2635753.74                53.0    6010.0   \n",
       "3   50615998       0            -42672.40                 7.0    4829.0   \n",
       "4   95213230       0            214292.66                34.0    5812.0   \n",
       "\n",
       "  Type_mode  hour_mean Transactions_tendency  Transaction_mean  \n",
       "0    1110.0  15.068966                     +       3070.089655  \n",
       "1    1110.0  11.222222                     -     -22446.614815  \n",
       "2    7030.0  13.735849                     +      49731.202642  \n",
       "3    2370.0  14.142857                     -      -6096.057143  \n",
       "4    1030.0   9.617647                     +       6302.725294  "
      ]
     },
     "execution_count": 24,
     "metadata": {},
     "output_type": "execute_result"
    }
   ],
   "source": [
    "train_set.head()"
   ]
  },
  {
   "cell_type": "code",
   "execution_count": 25,
   "id": "ad586beb",
   "metadata": {},
   "outputs": [
    {
     "data": {
      "text/html": [
       "<div>\n",
       "<style scoped>\n",
       "    .dataframe tbody tr th:only-of-type {\n",
       "        vertical-align: middle;\n",
       "    }\n",
       "\n",
       "    .dataframe tbody tr th {\n",
       "        vertical-align: top;\n",
       "    }\n",
       "\n",
       "    .dataframe thead th {\n",
       "        text-align: right;\n",
       "    }\n",
       "</style>\n",
       "<table border=\"1\" class=\"dataframe\">\n",
       "  <thead>\n",
       "    <tr style=\"text-align: right;\">\n",
       "      <th></th>\n",
       "      <th>client_id</th>\n",
       "      <th>target</th>\n",
       "      <th>sum_of_transactions</th>\n",
       "      <th>count_transactions</th>\n",
       "      <th>hour_mean</th>\n",
       "      <th>Transaction_mean</th>\n",
       "    </tr>\n",
       "  </thead>\n",
       "  <tbody>\n",
       "    <tr>\n",
       "      <th>client_id</th>\n",
       "      <td>1.000000</td>\n",
       "      <td>0.003311</td>\n",
       "      <td>0.007854</td>\n",
       "      <td>-0.004135</td>\n",
       "      <td>0.016593</td>\n",
       "      <td>0.002606</td>\n",
       "    </tr>\n",
       "    <tr>\n",
       "      <th>target</th>\n",
       "      <td>0.003311</td>\n",
       "      <td>1.000000</td>\n",
       "      <td>-0.036427</td>\n",
       "      <td>0.069390</td>\n",
       "      <td>-0.013989</td>\n",
       "      <td>-0.061986</td>\n",
       "    </tr>\n",
       "    <tr>\n",
       "      <th>sum_of_transactions</th>\n",
       "      <td>0.007854</td>\n",
       "      <td>-0.036427</td>\n",
       "      <td>1.000000</td>\n",
       "      <td>-0.012241</td>\n",
       "      <td>0.013085</td>\n",
       "      <td>0.637316</td>\n",
       "    </tr>\n",
       "    <tr>\n",
       "      <th>count_transactions</th>\n",
       "      <td>-0.004135</td>\n",
       "      <td>0.069390</td>\n",
       "      <td>-0.012241</td>\n",
       "      <td>1.000000</td>\n",
       "      <td>-0.033385</td>\n",
       "      <td>0.089265</td>\n",
       "    </tr>\n",
       "    <tr>\n",
       "      <th>hour_mean</th>\n",
       "      <td>0.016593</td>\n",
       "      <td>-0.013989</td>\n",
       "      <td>0.013085</td>\n",
       "      <td>-0.033385</td>\n",
       "      <td>1.000000</td>\n",
       "      <td>0.012961</td>\n",
       "    </tr>\n",
       "    <tr>\n",
       "      <th>Transaction_mean</th>\n",
       "      <td>0.002606</td>\n",
       "      <td>-0.061986</td>\n",
       "      <td>0.637316</td>\n",
       "      <td>0.089265</td>\n",
       "      <td>0.012961</td>\n",
       "      <td>1.000000</td>\n",
       "    </tr>\n",
       "  </tbody>\n",
       "</table>\n",
       "</div>"
      ],
      "text/plain": [
       "                     client_id    target  sum_of_transactions  \\\n",
       "client_id             1.000000  0.003311             0.007854   \n",
       "target                0.003311  1.000000            -0.036427   \n",
       "sum_of_transactions   0.007854 -0.036427             1.000000   \n",
       "count_transactions   -0.004135  0.069390            -0.012241   \n",
       "hour_mean             0.016593 -0.013989             0.013085   \n",
       "Transaction_mean      0.002606 -0.061986             0.637316   \n",
       "\n",
       "                     count_transactions  hour_mean  Transaction_mean  \n",
       "client_id                     -0.004135   0.016593          0.002606  \n",
       "target                         0.069390  -0.013989         -0.061986  \n",
       "sum_of_transactions           -0.012241   0.013085          0.637316  \n",
       "count_transactions             1.000000  -0.033385          0.089265  \n",
       "hour_mean                     -0.033385   1.000000          0.012961  \n",
       "Transaction_mean               0.089265   0.012961          1.000000  "
      ]
     },
     "execution_count": 25,
     "metadata": {},
     "output_type": "execute_result"
    }
   ],
   "source": [
    "train_set.corr()"
   ]
  },
  {
   "cell_type": "code",
   "execution_count": 26,
   "id": "036d9ef4",
   "metadata": {},
   "outputs": [
    {
     "data": {
      "text/plain": [
       "Text(0, 0.5, 'Count')"
      ]
     },
     "execution_count": 26,
     "metadata": {},
     "output_type": "execute_result"
    },
    {
     "data": {
      "image/png": "[encoded data removed]",
      "text/plain": [
       "<Figure size 720x360 with 1 Axes>"
      ]
     },
     "metadata": {
      "needs_background": "light"
     },
     "output_type": "display_data"
    }
   ],
   "source": [
    "#Distribution of mean_hour\n",
    "plt.figure(figsize=(10, 5))\n",
    "sns.set(style = 'whitegrid')\n",
    "sns.histplot(train_set['hour_mean'], kde=True, stat=\"density\", linewidth=0)\n",
    "plt.title('Distribution of hour_mean', fontsize = 20)\n",
    "plt.xlabel('Range of hour_mean')\n",
    "plt.ylabel('Count')"
   ]
  },
  {
   "cell_type": "code",
   "execution_count": 27,
   "id": "61fd3ff5",
   "metadata": {},
   "outputs": [
    {
     "data": {
      "text/plain": [
       "Text(0, 0.5, 'Count')"
      ]
     },
     "execution_count": 27,
     "metadata": {},
     "output_type": "execute_result"
    },
    {
     "data": {
      "image/png": "[encoded data removed]",
      "text/plain": [
       "<Figure size 720x360 with 1 Axes>"
      ]
     },
     "metadata": {},
     "output_type": "display_data"
    }
   ],
   "source": [
    "#Distribution of count_transactions\n",
    "plt.figure(figsize=(10, 5))\n",
    "sns.set(style = 'whitegrid')\n",
    "sns.histplot(train_set['count_transactions'], kde=True, stat=\"density\", linewidth=0)\n",
    "plt.title('Distribution of count_transactions', fontsize = 20)\n",
    "plt.xlabel('Range of count_transactions')\n",
    "plt.ylabel('Count')"
   ]
  },
  {
   "cell_type": "code",
   "execution_count": 28,
   "id": "4bd9a562",
   "metadata": {},
   "outputs": [
    {
     "data": {
      "image/png": "[encoded data removed]",
      "text/plain": [
       "<Figure size 720x288 with 1 Axes>"
      ]
     },
     "metadata": {},
     "output_type": "display_data"
    }
   ],
   "source": [
    "targets = train_set.target.value_counts()\n",
    "sns.set_style(\"darkgrid\")\n",
    "plt.figure(figsize=(10,4))\n",
    "sns.barplot(x=targets.index, y=targets.values)\n",
    "plt.show()"
   ]
  },
  {
   "cell_type": "markdown",
   "id": "89e144c3",
   "metadata": {},
   "source": [
    "More 0(female?) customers than 1(male?)."
   ]
  },
  {
   "cell_type": "markdown",
   "id": "ab7be64c",
   "metadata": {},
   "source": [
    "# K-means Clustering"
   ]
  },
  {
   "cell_type": "code",
   "execution_count": 29,
   "id": "fb741e44",
   "metadata": {},
   "outputs": [],
   "source": [
    "#We take just the count_transactions and mean_hour\n",
    "df1 = train_set[[\"client_id\", \"target\", \"sum_of_transactions\", \"count_transactions\", \"hour_mean\"]]\n",
    "X = df1[[\"count_transactions\",\"hour_mean\"]]"
   ]
  },
  {
   "cell_type": "code",
   "execution_count": 30,
   "id": "af302c81",
   "metadata": {},
   "outputs": [
    {
     "data": {
      "text/html": [
       "<div>\n",
       "<style scoped>\n",
       "    .dataframe tbody tr th:only-of-type {\n",
       "        vertical-align: middle;\n",
       "    }\n",
       "\n",
       "    .dataframe tbody tr th {\n",
       "        vertical-align: top;\n",
       "    }\n",
       "\n",
       "    .dataframe thead th {\n",
       "        text-align: right;\n",
       "    }\n",
       "</style>\n",
       "<table border=\"1\" class=\"dataframe\">\n",
       "  <thead>\n",
       "    <tr style=\"text-align: right;\">\n",
       "      <th></th>\n",
       "      <th>count_transactions</th>\n",
       "      <th>hour_mean</th>\n",
       "    </tr>\n",
       "  </thead>\n",
       "  <tbody>\n",
       "    <tr>\n",
       "      <th>0</th>\n",
       "      <td>29.0</td>\n",
       "      <td>15.068966</td>\n",
       "    </tr>\n",
       "    <tr>\n",
       "      <th>1</th>\n",
       "      <td>27.0</td>\n",
       "      <td>11.222222</td>\n",
       "    </tr>\n",
       "    <tr>\n",
       "      <th>2</th>\n",
       "      <td>53.0</td>\n",
       "      <td>13.735849</td>\n",
       "    </tr>\n",
       "    <tr>\n",
       "      <th>3</th>\n",
       "      <td>7.0</td>\n",
       "      <td>14.142857</td>\n",
       "    </tr>\n",
       "    <tr>\n",
       "      <th>4</th>\n",
       "      <td>34.0</td>\n",
       "      <td>9.617647</td>\n",
       "    </tr>\n",
       "  </tbody>\n",
       "</table>\n",
       "</div>"
      ],
      "text/plain": [
       "   count_transactions  hour_mean\n",
       "0                29.0  15.068966\n",
       "1                27.0  11.222222\n",
       "2                53.0  13.735849\n",
       "3                 7.0  14.142857\n",
       "4                34.0   9.617647"
      ]
     },
     "execution_count": 30,
     "metadata": {},
     "output_type": "execute_result"
    }
   ],
   "source": [
    "#The input data\n",
    "X.head()"
   ]
  },
  {
   "cell_type": "code",
   "execution_count": 31,
   "id": "fd3086aa",
   "metadata": {},
   "outputs": [
    {
     "data": {
      "image/png": "[encoded data removed]",
      "text/plain": [
       "<Figure size 720x432 with 1 Axes>"
      ]
     },
     "metadata": {},
     "output_type": "display_data"
    }
   ],
   "source": [
    "#Scatterplot of the input data\n",
    "plt.figure(figsize=(10,6))\n",
    "sns.scatterplot(x = 'hour_mean',y = 'count_transactions',  data = X  ,s = 60 )\n",
    "plt.xlabel('hour_mean')\n",
    "plt.ylabel('count_transactions') \n",
    "plt.title('count_transactions vs hour_mean')\n",
    "plt.show()"
   ]
  },
  {
   "cell_type": "code",
   "execution_count": 32,
   "id": "c6f2baec",
   "metadata": {},
   "outputs": [
    {
     "data": {
      "text/plain": [
       "140.27577570278666"
      ]
     },
     "execution_count": 32,
     "metadata": {},
     "output_type": "execute_result"
    }
   ],
   "source": [
    "train_set.count_transactions.max()"
   ]
  },
  {
   "cell_type": "code",
   "execution_count": 33,
   "id": "7bfd1335",
   "metadata": {},
   "outputs": [],
   "source": [
    "#Importing KMeans from sklearn\n",
    "from sklearn.cluster import KMeans"
   ]
  },
  {
   "cell_type": "code",
   "execution_count": 34,
   "id": "36c79b32",
   "metadata": {},
   "outputs": [],
   "source": [
    "wcss=[]\n",
    "for i in range(1,11):\n",
    "    km=KMeans(n_clusters=i)\n",
    "    km.fit(X)\n",
    "    wcss.append(km.inertia_)"
   ]
  },
  {
   "cell_type": "code",
   "execution_count": 35,
   "id": "a14748b5",
   "metadata": {},
   "outputs": [
    {
     "data": {
      "image/png": "[encoded data removed]",
      "text/plain": [
       "<Figure size 864x432 with 1 Axes>"
      ]
     },
     "metadata": {},
     "output_type": "display_data"
    }
   ],
   "source": [
    "#The elbow curve\n",
    "plt.figure(figsize=(12,6))\n",
    "plt.plot(range(1,11),wcss)\n",
    "plt.plot(range(1,11),wcss, linewidth=2, color=\"red\", marker =\"8\")\n",
    "plt.xlabel(\"K Value\")\n",
    "plt.xticks(np.arange(1,11,1))\n",
    "plt.ylabel(\"WCSS\")\n",
    "plt.show()"
   ]
  },
  {
   "cell_type": "code",
   "execution_count": 36,
   "id": "8471ad53",
   "metadata": {},
   "outputs": [
    {
     "data": {
      "text/html": [
       "<div>\n",
       "<style scoped>\n",
       "    .dataframe tbody tr th:only-of-type {\n",
       "        vertical-align: middle;\n",
       "    }\n",
       "\n",
       "    .dataframe tbody tr th {\n",
       "        vertical-align: top;\n",
       "    }\n",
       "\n",
       "    .dataframe thead th {\n",
       "        text-align: right;\n",
       "    }\n",
       "</style>\n",
       "<table border=\"1\" class=\"dataframe\">\n",
       "  <thead>\n",
       "    <tr style=\"text-align: right;\">\n",
       "      <th></th>\n",
       "      <th>client_id</th>\n",
       "      <th>target</th>\n",
       "      <th>sum_of_transactions</th>\n",
       "      <th>count_transactions</th>\n",
       "      <th>Code_mode</th>\n",
       "      <th>Type_mode</th>\n",
       "      <th>hour_mean</th>\n",
       "      <th>Transactions_tendency</th>\n",
       "      <th>Transaction_mean</th>\n",
       "      <th>label</th>\n",
       "    </tr>\n",
       "  </thead>\n",
       "  <tbody>\n",
       "    <tr>\n",
       "      <th>0</th>\n",
       "      <td>75063019</td>\n",
       "      <td>0</td>\n",
       "      <td>89032.60</td>\n",
       "      <td>29.0</td>\n",
       "      <td>5411.0</td>\n",
       "      <td>1110.0</td>\n",
       "      <td>15.068966</td>\n",
       "      <td>+</td>\n",
       "      <td>3070.089655</td>\n",
       "      <td>4</td>\n",
       "    </tr>\n",
       "    <tr>\n",
       "      <th>1</th>\n",
       "      <td>86227647</td>\n",
       "      <td>1</td>\n",
       "      <td>-606058.60</td>\n",
       "      <td>27.0</td>\n",
       "      <td>5411.0</td>\n",
       "      <td>1110.0</td>\n",
       "      <td>11.222222</td>\n",
       "      <td>-</td>\n",
       "      <td>-22446.614815</td>\n",
       "      <td>4</td>\n",
       "    </tr>\n",
       "    <tr>\n",
       "      <th>2</th>\n",
       "      <td>6506523</td>\n",
       "      <td>0</td>\n",
       "      <td>2635753.74</td>\n",
       "      <td>53.0</td>\n",
       "      <td>6010.0</td>\n",
       "      <td>7030.0</td>\n",
       "      <td>13.735849</td>\n",
       "      <td>+</td>\n",
       "      <td>49731.202642</td>\n",
       "      <td>3</td>\n",
       "    </tr>\n",
       "    <tr>\n",
       "      <th>3</th>\n",
       "      <td>50615998</td>\n",
       "      <td>0</td>\n",
       "      <td>-42672.40</td>\n",
       "      <td>7.0</td>\n",
       "      <td>4829.0</td>\n",
       "      <td>2370.0</td>\n",
       "      <td>14.142857</td>\n",
       "      <td>-</td>\n",
       "      <td>-6096.057143</td>\n",
       "      <td>0</td>\n",
       "    </tr>\n",
       "    <tr>\n",
       "      <th>4</th>\n",
       "      <td>95213230</td>\n",
       "      <td>0</td>\n",
       "      <td>214292.66</td>\n",
       "      <td>34.0</td>\n",
       "      <td>5812.0</td>\n",
       "      <td>1030.0</td>\n",
       "      <td>9.617647</td>\n",
       "      <td>+</td>\n",
       "      <td>6302.725294</td>\n",
       "      <td>4</td>\n",
       "    </tr>\n",
       "  </tbody>\n",
       "</table>\n",
       "</div>"
      ],
      "text/plain": [
       "   client_id  target  sum_of_transactions  count_transactions Code_mode  \\\n",
       "0   75063019       0             89032.60                29.0    5411.0   \n",
       "1   86227647       1           -606058.60                27.0    5411.0   \n",
       "2    6506523       0           2635753.74                53.0    6010.0   \n",
       "3   50615998       0            -42672.40                 7.0    4829.0   \n",
       "4   95213230       0            214292.66                34.0    5812.0   \n",
       "\n",
       "  Type_mode  hour_mean Transactions_tendency  Transaction_mean  label  \n",
       "0    1110.0  15.068966                     +       3070.089655      4  \n",
       "1    1110.0  11.222222                     -     -22446.614815      4  \n",
       "2    7030.0  13.735849                     +      49731.202642      3  \n",
       "3    2370.0  14.142857                     -      -6096.057143      0  \n",
       "4    1030.0   9.617647                     +       6302.725294      4  "
      ]
     },
     "execution_count": 36,
     "metadata": {},
     "output_type": "execute_result"
    }
   ],
   "source": [
    "#Taking 5 clusters\n",
    "km1=KMeans(n_clusters=5)\n",
    "km1.fit(X)\n",
    "\n",
    "y=km1.predict(X)\n",
    "\n",
    "train_set[\"label\"] = y\n",
    "train_set.head()"
   ]
  },
  {
   "cell_type": "code",
   "execution_count": 37,
   "id": "67770b50",
   "metadata": {
    "scrolled": true
   },
   "outputs": [
    {
     "data": {
      "image/png": "[encoded data removed]",
      "text/plain": [
       "<Figure size 720x432 with 1 Axes>"
      ]
     },
     "metadata": {},
     "output_type": "display_data"
    }
   ],
   "source": [
    "#Scatterplot of the clusters\n",
    "plt.figure(figsize=(10,6))\n",
    "sns.scatterplot(x = 'hour_mean',y = 'count_transactions',hue=\"label\",  \n",
    "                 palette=['green','orange','brown','dodgerblue','red'], legend='full',data = train_set,s = 60 )\n",
    "plt.xlabel('mean_hour')\n",
    "plt.ylabel('count_transactions') \n",
    "plt.title('count_transactions vs hour_mean')\n",
    "plt.show()"
   ]
  },
  {
   "cell_type": "markdown",
   "id": "483d5092",
   "metadata": {},
   "source": [
    "We can clearly see that 5 different clusters have been formed from the data. The red cluster is the customers with the least count transactions, similarly, the blue cluster is the customers with the most count transactions."
   ]
  },
  {
   "cell_type": "code",
   "execution_count": 38,
   "id": "84526d8d",
   "metadata": {},
   "outputs": [],
   "source": [
    "from scipy.cluster.hierarchy import linkage\n",
    "from scipy.cluster.hierarchy import dendrogram\n",
    "from scipy.cluster.hierarchy import cut_tree"
   ]
  },
  {
   "cell_type": "code",
   "execution_count": 39,
   "id": "d994398f",
   "metadata": {},
   "outputs": [
    {
     "data": {
      "text/html": [
       "<div>\n",
       "<style scoped>\n",
       "    .dataframe tbody tr th:only-of-type {\n",
       "        vertical-align: middle;\n",
       "    }\n",
       "\n",
       "    .dataframe tbody tr th {\n",
       "        vertical-align: top;\n",
       "    }\n",
       "\n",
       "    .dataframe thead th {\n",
       "        text-align: right;\n",
       "    }\n",
       "</style>\n",
       "<table border=\"1\" class=\"dataframe\">\n",
       "  <thead>\n",
       "    <tr style=\"text-align: right;\">\n",
       "      <th></th>\n",
       "      <th>sum_of_transactions</th>\n",
       "      <th>count_transactions</th>\n",
       "    </tr>\n",
       "  </thead>\n",
       "  <tbody>\n",
       "    <tr>\n",
       "      <th>0</th>\n",
       "      <td>89032.60</td>\n",
       "      <td>29.0</td>\n",
       "    </tr>\n",
       "    <tr>\n",
       "      <th>1</th>\n",
       "      <td>-606058.60</td>\n",
       "      <td>27.0</td>\n",
       "    </tr>\n",
       "    <tr>\n",
       "      <th>2</th>\n",
       "      <td>2635753.74</td>\n",
       "      <td>53.0</td>\n",
       "    </tr>\n",
       "    <tr>\n",
       "      <th>3</th>\n",
       "      <td>-42672.40</td>\n",
       "      <td>7.0</td>\n",
       "    </tr>\n",
       "    <tr>\n",
       "      <th>4</th>\n",
       "      <td>214292.66</td>\n",
       "      <td>34.0</td>\n",
       "    </tr>\n",
       "    <tr>\n",
       "      <th>...</th>\n",
       "      <td>...</td>\n",
       "      <td>...</td>\n",
       "    </tr>\n",
       "    <tr>\n",
       "      <th>5995</th>\n",
       "      <td>-114601.90</td>\n",
       "      <td>5.0</td>\n",
       "    </tr>\n",
       "    <tr>\n",
       "      <th>5996</th>\n",
       "      <td>-262708.36</td>\n",
       "      <td>7.0</td>\n",
       "    </tr>\n",
       "    <tr>\n",
       "      <th>5997</th>\n",
       "      <td>-42863.31</td>\n",
       "      <td>6.0</td>\n",
       "    </tr>\n",
       "    <tr>\n",
       "      <th>5998</th>\n",
       "      <td>-75992.84</td>\n",
       "      <td>19.0</td>\n",
       "    </tr>\n",
       "    <tr>\n",
       "      <th>5999</th>\n",
       "      <td>-16392.05</td>\n",
       "      <td>10.0</td>\n",
       "    </tr>\n",
       "  </tbody>\n",
       "</table>\n",
       "<p>6000 rows × 2 columns</p>\n",
       "</div>"
      ],
      "text/plain": [
       "      sum_of_transactions  count_transactions\n",
       "0                89032.60                29.0\n",
       "1              -606058.60                27.0\n",
       "2              2635753.74                53.0\n",
       "3               -42672.40                 7.0\n",
       "4               214292.66                34.0\n",
       "...                   ...                 ...\n",
       "5995           -114601.90                 5.0\n",
       "5996           -262708.36                 7.0\n",
       "5997            -42863.31                 6.0\n",
       "5998            -75992.84                19.0\n",
       "5999            -16392.05                10.0\n",
       "\n",
       "[6000 rows x 2 columns]"
      ]
     },
     "execution_count": 39,
     "metadata": {},
     "output_type": "execute_result"
    }
   ],
   "source": [
    "df_scaled = train_set[['sum_of_transactions', 'count_transactions']]\n",
    "df_scaled"
   ]
  },
  {
   "cell_type": "code",
   "execution_count": 40,
   "id": "7cacb4b8",
   "metadata": {},
   "outputs": [
    {
     "data": {
      "image/png": "[encoded data removed]",
      "text/plain": [
       "<Figure size 432x288 with 1 Axes>"
      ]
     },
     "metadata": {},
     "output_type": "display_data"
    }
   ],
   "source": [
    "mergings = linkage(df_scaled, method=\"single\", metric='euclidean')\n",
    "dendrogram(mergings)\n",
    "plt.show()"
   ]
  },
  {
   "cell_type": "code",
   "execution_count": 41,
   "id": "c60eec25",
   "metadata": {},
   "outputs": [
    {
     "data": {
      "image/png": "[encoded data removed]",
      "text/plain": [
       "<Figure size 432x288 with 1 Axes>"
      ]
     },
     "metadata": {},
     "output_type": "display_data"
    }
   ],
   "source": [
    "mergings = linkage(df_scaled, method=\"complete\", metric='euclidean')\n",
    "dendrogram(mergings)\n",
    "plt.show()"
   ]
  },
  {
   "cell_type": "code",
   "execution_count": 42,
   "id": "d074e173",
   "metadata": {},
   "outputs": [
    {
     "data": {
      "image/png": "[encoded data removed]",
      "text/plain": [
       "<Figure size 432x288 with 1 Axes>"
      ]
     },
     "metadata": {},
     "output_type": "display_data"
    }
   ],
   "source": [
    "mergings = linkage(df_scaled, method=\"average\", metric='euclidean')\n",
    "dendrogram(mergings)\n",
    "plt.show()"
   ]
  },
  {
   "cell_type": "code",
   "execution_count": 43,
   "id": "9939f6e6",
   "metadata": {},
   "outputs": [
    {
     "data": {
      "text/plain": [
       "array([0, 0, 0, ..., 0, 0, 0])"
      ]
     },
     "execution_count": 43,
     "metadata": {},
     "output_type": "execute_result"
    }
   ],
   "source": [
    "cluster_labels1 = cut_tree(mergings, n_clusters=5).reshape(-1, )\n",
    "cluster_labels1"
   ]
  },
  {
   "cell_type": "code",
   "execution_count": 44,
   "id": "4db507fa",
   "metadata": {},
   "outputs": [
    {
     "data": {
      "text/html": [
       "<div>\n",
       "<style scoped>\n",
       "    .dataframe tbody tr th:only-of-type {\n",
       "        vertical-align: middle;\n",
       "    }\n",
       "\n",
       "    .dataframe tbody tr th {\n",
       "        vertical-align: top;\n",
       "    }\n",
       "\n",
       "    .dataframe thead th {\n",
       "        text-align: right;\n",
       "    }\n",
       "</style>\n",
       "<table border=\"1\" class=\"dataframe\">\n",
       "  <thead>\n",
       "    <tr style=\"text-align: right;\">\n",
       "      <th></th>\n",
       "      <th>client_id</th>\n",
       "      <th>target</th>\n",
       "      <th>sum_of_transactions</th>\n",
       "      <th>count_transactions</th>\n",
       "      <th>Code_mode</th>\n",
       "      <th>Type_mode</th>\n",
       "      <th>hour_mean</th>\n",
       "      <th>Transactions_tendency</th>\n",
       "      <th>Transaction_mean</th>\n",
       "      <th>label</th>\n",
       "      <th>Cluster_label</th>\n",
       "    </tr>\n",
       "  </thead>\n",
       "  <tbody>\n",
       "    <tr>\n",
       "      <th>0</th>\n",
       "      <td>75063019</td>\n",
       "      <td>0</td>\n",
       "      <td>89032.60</td>\n",
       "      <td>29.0</td>\n",
       "      <td>5411.0</td>\n",
       "      <td>1110.0</td>\n",
       "      <td>15.068966</td>\n",
       "      <td>+</td>\n",
       "      <td>3070.089655</td>\n",
       "      <td>4</td>\n",
       "      <td>0</td>\n",
       "    </tr>\n",
       "    <tr>\n",
       "      <th>1</th>\n",
       "      <td>86227647</td>\n",
       "      <td>1</td>\n",
       "      <td>-606058.60</td>\n",
       "      <td>27.0</td>\n",
       "      <td>5411.0</td>\n",
       "      <td>1110.0</td>\n",
       "      <td>11.222222</td>\n",
       "      <td>-</td>\n",
       "      <td>-22446.614815</td>\n",
       "      <td>4</td>\n",
       "      <td>0</td>\n",
       "    </tr>\n",
       "    <tr>\n",
       "      <th>2</th>\n",
       "      <td>6506523</td>\n",
       "      <td>0</td>\n",
       "      <td>2635753.74</td>\n",
       "      <td>53.0</td>\n",
       "      <td>6010.0</td>\n",
       "      <td>7030.0</td>\n",
       "      <td>13.735849</td>\n",
       "      <td>+</td>\n",
       "      <td>49731.202642</td>\n",
       "      <td>3</td>\n",
       "      <td>0</td>\n",
       "    </tr>\n",
       "    <tr>\n",
       "      <th>3</th>\n",
       "      <td>50615998</td>\n",
       "      <td>0</td>\n",
       "      <td>-42672.40</td>\n",
       "      <td>7.0</td>\n",
       "      <td>4829.0</td>\n",
       "      <td>2370.0</td>\n",
       "      <td>14.142857</td>\n",
       "      <td>-</td>\n",
       "      <td>-6096.057143</td>\n",
       "      <td>0</td>\n",
       "      <td>0</td>\n",
       "    </tr>\n",
       "    <tr>\n",
       "      <th>4</th>\n",
       "      <td>95213230</td>\n",
       "      <td>0</td>\n",
       "      <td>214292.66</td>\n",
       "      <td>34.0</td>\n",
       "      <td>5812.0</td>\n",
       "      <td>1030.0</td>\n",
       "      <td>9.617647</td>\n",
       "      <td>+</td>\n",
       "      <td>6302.725294</td>\n",
       "      <td>4</td>\n",
       "      <td>0</td>\n",
       "    </tr>\n",
       "    <tr>\n",
       "      <th>...</th>\n",
       "      <td>...</td>\n",
       "      <td>...</td>\n",
       "      <td>...</td>\n",
       "      <td>...</td>\n",
       "      <td>...</td>\n",
       "      <td>...</td>\n",
       "      <td>...</td>\n",
       "      <td>...</td>\n",
       "      <td>...</td>\n",
       "      <td>...</td>\n",
       "      <td>...</td>\n",
       "    </tr>\n",
       "    <tr>\n",
       "      <th>5995</th>\n",
       "      <td>71577803</td>\n",
       "      <td>0</td>\n",
       "      <td>-114601.90</td>\n",
       "      <td>5.0</td>\n",
       "      <td>7230.0</td>\n",
       "      <td>1010.0</td>\n",
       "      <td>10.800000</td>\n",
       "      <td>-</td>\n",
       "      <td>-22920.380000</td>\n",
       "      <td>0</td>\n",
       "      <td>0</td>\n",
       "    </tr>\n",
       "    <tr>\n",
       "      <th>5996</th>\n",
       "      <td>8128547</td>\n",
       "      <td>1</td>\n",
       "      <td>-262708.36</td>\n",
       "      <td>7.0</td>\n",
       "      <td>6010.0</td>\n",
       "      <td>2010.0</td>\n",
       "      <td>11.000000</td>\n",
       "      <td>-</td>\n",
       "      <td>-37529.765714</td>\n",
       "      <td>0</td>\n",
       "      <td>0</td>\n",
       "    </tr>\n",
       "    <tr>\n",
       "      <th>5997</th>\n",
       "      <td>26055781</td>\n",
       "      <td>0</td>\n",
       "      <td>-42863.31</td>\n",
       "      <td>6.0</td>\n",
       "      <td>5747.0</td>\n",
       "      <td>1560.0</td>\n",
       "      <td>16.666667</td>\n",
       "      <td>-</td>\n",
       "      <td>-7143.885000</td>\n",
       "      <td>0</td>\n",
       "      <td>0</td>\n",
       "    </tr>\n",
       "    <tr>\n",
       "      <th>5998</th>\n",
       "      <td>73504380</td>\n",
       "      <td>1</td>\n",
       "      <td>-75992.84</td>\n",
       "      <td>19.0</td>\n",
       "      <td>5411.0</td>\n",
       "      <td>1030.0</td>\n",
       "      <td>10.473684</td>\n",
       "      <td>-</td>\n",
       "      <td>-3999.623158</td>\n",
       "      <td>1</td>\n",
       "      <td>0</td>\n",
       "    </tr>\n",
       "    <tr>\n",
       "      <th>5999</th>\n",
       "      <td>1846496</td>\n",
       "      <td>0</td>\n",
       "      <td>-16392.05</td>\n",
       "      <td>10.0</td>\n",
       "      <td>5411.0</td>\n",
       "      <td>1020.0</td>\n",
       "      <td>9.500000</td>\n",
       "      <td>-</td>\n",
       "      <td>-1639.205000</td>\n",
       "      <td>0</td>\n",
       "      <td>0</td>\n",
       "    </tr>\n",
       "  </tbody>\n",
       "</table>\n",
       "<p>6000 rows × 11 columns</p>\n",
       "</div>"
      ],
      "text/plain": [
       "      client_id  target  sum_of_transactions  count_transactions Code_mode  \\\n",
       "0      75063019       0             89032.60                29.0    5411.0   \n",
       "1      86227647       1           -606058.60                27.0    5411.0   \n",
       "2       6506523       0           2635753.74                53.0    6010.0   \n",
       "3      50615998       0            -42672.40                 7.0    4829.0   \n",
       "4      95213230       0            214292.66                34.0    5812.0   \n",
       "...         ...     ...                  ...                 ...       ...   \n",
       "5995   71577803       0           -114601.90                 5.0    7230.0   \n",
       "5996    8128547       1           -262708.36                 7.0    6010.0   \n",
       "5997   26055781       0            -42863.31                 6.0    5747.0   \n",
       "5998   73504380       1            -75992.84                19.0    5411.0   \n",
       "5999    1846496       0            -16392.05                10.0    5411.0   \n",
       "\n",
       "     Type_mode  hour_mean Transactions_tendency  Transaction_mean  label  \\\n",
       "0       1110.0  15.068966                     +       3070.089655      4   \n",
       "1       1110.0  11.222222                     -     -22446.614815      4   \n",
       "2       7030.0  13.735849                     +      49731.202642      3   \n",
       "3       2370.0  14.142857                     -      -6096.057143      0   \n",
       "4       1030.0   9.617647                     +       6302.725294      4   \n",
       "...        ...        ...                   ...               ...    ...   \n",
       "5995    1010.0  10.800000                     -     -22920.380000      0   \n",
       "5996    2010.0  11.000000                     -     -37529.765714      0   \n",
       "5997    1560.0  16.666667                     -      -7143.885000      0   \n",
       "5998    1030.0  10.473684                     -      -3999.623158      1   \n",
       "5999    1020.0   9.500000                     -      -1639.205000      0   \n",
       "\n",
       "      Cluster_label  \n",
       "0                 0  \n",
       "1                 0  \n",
       "2                 0  \n",
       "3                 0  \n",
       "4                 0  \n",
       "...             ...  \n",
       "5995              0  \n",
       "5996              0  \n",
       "5997              0  \n",
       "5998              0  \n",
       "5999              0  \n",
       "\n",
       "[6000 rows x 11 columns]"
      ]
     },
     "execution_count": 44,
     "metadata": {},
     "output_type": "execute_result"
    }
   ],
   "source": [
    "df_f = train_set\n",
    "df_f['Cluster_label'] = cluster_labels1\n",
    "df_f"
   ]
  },
  {
   "cell_type": "code",
   "execution_count": 45,
   "id": "0c6401b1",
   "metadata": {},
   "outputs": [
    {
     "data": {
      "text/plain": [
       "<AxesSubplot:xlabel='Cluster_label', ylabel='count_transactions'>"
      ]
     },
     "execution_count": 45,
     "metadata": {},
     "output_type": "execute_result"
    },
    {
     "data": {
      "image/png": "[encoded data removed]",
      "text/plain": [
       "<Figure size 432x288 with 1 Axes>"
      ]
     },
     "metadata": {},
     "output_type": "display_data"
    }
   ],
   "source": [
    "sns.boxplot(x='Cluster_label', y='count_transactions', data=df_f)"
   ]
  },
  {
   "cell_type": "code",
   "execution_count": 46,
   "id": "1f575e99",
   "metadata": {},
   "outputs": [
    {
     "data": {
      "text/plain": [
       "<AxesSubplot:xlabel='Cluster_label', ylabel='sum_of_transactions'>"
      ]
     },
     "execution_count": 46,
     "metadata": {},
     "output_type": "execute_result"
    },
    {
     "data": {
      "image/png": "[encoded data removed]",
      "text/plain": [
       "<Figure size 720x432 with 1 Axes>"
      ]
     },
     "metadata": {},
     "output_type": "display_data"
    }
   ],
   "source": [
    "# Plot Cluster Id vs count_transactions\n",
    "plt.figure(figsize=(10, 6))\n",
    "sns.scatterplot(x='Cluster_label', y='sum_of_transactions', data=df_f)"
   ]
  },
  {
   "cell_type": "markdown",
   "id": "6a676bd1",
   "metadata": {},
   "source": [
    "Hierarchical Clustering with 5 Cluster Labels\n",
    "\n",
    "Customers with Cluster_Labels 0 and 1 are the customers with high amount of transactions as compared to other customers.\n",
    "\n",
    "Customers with Cluster_Labels 1 are frequent customer in bank and their sum of transactions is higher than other customers.\n",
    "\n",
    "Also Customers with Cluster_labels 0 are active customer in bank\n"
   ]
  },
  {
   "cell_type": "code",
   "execution_count": 47,
   "id": "f7bf8df4",
   "metadata": {},
   "outputs": [
    {
     "name": "stdout",
     "output_type": "stream",
     "text": [
      "Average of hour: 11.792256940510223\n",
      "Minimum of hour: 0.0\n",
      "Maximum of hour: 23.0\n"
     ]
    }
   ],
   "source": [
    "tr_avg=train_set['hour_mean'].mean()\n",
    "tr_min=train_set['hour_mean'].min()\n",
    "tr_max=train_set['hour_mean'].max()\n",
    "Diff=[tr_min,tr_avg,tr_max]\n",
    "print('Average of hour:',tr_avg)\n",
    "print('Minimum of hour:',tr_min)\n",
    "print('Maximum of hour:',tr_max)"
   ]
  },
  {
   "cell_type": "code",
   "execution_count": 48,
   "id": "15c19cb8",
   "metadata": {},
   "outputs": [
    {
     "name": "stderr",
     "output_type": "stream",
     "text": [
      "C:\\ProgramData\\Anaconda3\\lib\\site-packages\\seaborn\\distributions.py:2557: FutureWarning: `distplot` is a deprecated function and will be removed in a future version. Please adapt your code to use either `displot` (a figure-level function with similar flexibility) or `histplot` (an axes-level function for histograms).\n",
      "  warnings.warn(msg, FutureWarning)\n"
     ]
    },
    {
     "data": {
      "image/png": "[encoded data removed]",
      "text/plain": [
       "<Figure size 432x288 with 1 Axes>"
      ]
     },
     "metadata": {},
     "output_type": "display_data"
    }
   ],
   "source": [
    "sns.distplot(Diff)\n",
    "plt.title(\"Showing the skewness\");"
   ]
  },
  {
   "cell_type": "markdown",
   "id": "95247804",
   "metadata": {},
   "source": [
    "In this displot you can see the skewness between a minimum, maximum and average time spent."
   ]
  },
  {
   "cell_type": "code",
   "execution_count": 49,
   "id": "729e9fe1",
   "metadata": {},
   "outputs": [
    {
     "data": {
      "image/png": "[encoded data removed]",
      "text/plain": [
       "<Figure size 1008x360 with 1 Axes>"
      ]
     },
     "metadata": {},
     "output_type": "display_data"
    }
   ],
   "source": [
    "#grouping dataframe into two groups: Target 0 and Target 1\n",
    "tr_s = train_set.groupby(['target'], as_index = False).count()\n",
    "\n",
    "#color for parts\n",
    "clrs = ['#c1b37f','#5f9e6e']\n",
    "\n",
    "plt.figure(figsize = (14, 5))\n",
    "#Displaying the pie chart.\n",
    "plt.pie(tr_s['client_id'],\n",
    "        labels = tr_s['target'], \n",
    "        colors = clrs, \n",
    "        autopct='%1.1f%%',#displaying the percent\n",
    "        shadow=False, \n",
    "        startangle=0)\n",
    "\n",
    "plt.title('Figure 1.1 Target 0 vs Target 1', size = 14)\n",
    "plt.show()"
   ]
  },
  {
   "cell_type": "markdown",
   "id": "ed8a404a",
   "metadata": {},
   "source": [
    "By this pie, you can find out that the most of half is 0 target. "
   ]
  },
  {
   "cell_type": "code",
   "execution_count": 50,
   "id": "e9ce6c6f",
   "metadata": {},
   "outputs": [
    {
     "data": {
      "image/png": "[encoded data removed]",
      "text/plain": [
       "<Figure size 1008x360 with 1 Axes>"
      ]
     },
     "metadata": {},
     "output_type": "display_data"
    }
   ],
   "source": [
    "plt.figure(figsize = (14,5))\n",
    "#Displaying the chart.\n",
    "ax=transactions['code'].value_counts()[:10].plot(kind='barh')\n",
    "\n",
    "ax.set_title('Figure 1.2 Most frequent code', size = 14)\n",
    "\n",
    "ax.xaxis.grid(True)"
   ]
  },
  {
   "cell_type": "markdown",
   "id": "da688b93",
   "metadata": {},
   "source": [
    "This chart shows the most frequent code in transaction data. As you can see the most frequensed code is 6011, which is equal to approximately 28000."
   ]
  },
  {
   "cell_type": "markdown",
   "id": "e419cc8b",
   "metadata": {},
   "source": [
    "# Conclusion"
   ]
  },
  {
   "cell_type": "markdown",
   "id": "2758baf0",
   "metadata": {},
   "source": [
    "The first form of classification is the method called k-means clustering or the mobile center algorithm. As a reminder, this method aims at partitioning n observations into k clusters in which each observation belongs to the cluster with the closest average, serving as a prototype of the cluster.\n",
    "For this task, we used the train_set database. \n",
    "Problems like segmenting customers are often deceptive and tricky because we are not working with any target variable in mind. We are officially in the land of unsupervised learning where we need to figure out patterns and structures without a set outcome in mind. It’s both challenging and thrilling as a data scientist."
   ]
  }
 ],
 "metadata": {
  "kernelspec": {
   "display_name": "Python 3",
   "language": "python",
   "name": "python3"
  },
  "language_info": {
   "codemirror_mode": {
    "name": "ipython",
    "version": 3
   },
   "file_extension": ".py",
   "mimetype": "text/x-python",
   "name": "python",
   "nbconvert_exporter": "python",
   "pygments_lexer": "ipython3",
   "version": "3.8.8"
  }
 },
 "nbformat": 4,
 "nbformat_minor": 5
}
